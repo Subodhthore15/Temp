{
 "cells": [
  {
   "cell_type": "markdown",
   "metadata": {},
   "source": [
    "## Data Ingestion\n"
   ]
  },
  {
   "cell_type": "code",
   "execution_count": null,
   "metadata": {},
   "outputs": [],
   "source": [
    "# Text loader\n",
    "from langchain_community.document_loaders import  TextLoader\n",
    "  \n",
    "loader = TextLoader('peech.txt').load()"
   ]
  },
  {
   "cell_type": "code",
   "execution_count": 4,
   "metadata": {},
   "outputs": [
    {
     "data": {
      "text/plain": [
       "\"Speech is the use of the human voice as a medium for language. Spoken language combines vowel and consonant sounds to form units of meaning like words, which belong to a language's lexicon. There are many different intentional speech acts, such as informing, declaring, asking, persuading, directing; acts may vary in various aspects like enunciation, intonation, loudness, and tempo to convey meaning. Individuals may also unintentionally communicate aspects of their social position through speech, such as sex, age, place of origin, physiological and mental condition, education, and experiences.\\n\\nWhile normally used to facilitate communication with others, people may also use speech without the intent to communicate. Speech may nevertheless express emotions or desires; people talk to themselves sometimes in acts that are a development of what some psychologists (e.g., Lev Vygotsky) have maintained is the use of silent speech in an interior monologue to vivify and organize cognition, sometimes in the momentary adoption of a dual persona as self addressing self as though addressing another person. Solo speech can be used to memorize or to test one's memorization of things, and in prayer or in meditation.\\n\\nResearchers study many different aspects of speech: speech production and speech perception of the sounds used in a language, speech repetition, speech errors,\\n\\n\\n\\n\\n\\n\""
      ]
     },
     "execution_count": 4,
     "metadata": {},
     "output_type": "execute_result"
    }
   ],
   "source": [
    "loader[0].page_content"
   ]
  },
  {
   "cell_type": "code",
   "execution_count": 8,
   "metadata": {},
   "outputs": [],
   "source": [
    "# PDF loader\n",
    "from langchain_community.document_loaders import PyPDFLoader\n",
    "loader=PyPDFLoader(r'C:\\Users\\Admin\\Desktop\\GenAI Krishna naik\\Langchain Basics\\1-Langchain\\NIPS-2017-attention-is-all-you-need-Paper.pdf').load()"
   ]
  },
  {
   "cell_type": "code",
   "execution_count": 9,
   "metadata": {},
   "outputs": [
    {
     "data": {
      "text/plain": [
       "[Document(metadata={'source': 'C:\\\\Users\\\\Admin\\\\Desktop\\\\GenAI Krishna naik\\\\Langchain Basics\\\\1-Langchain\\\\NIPS-2017-attention-is-all-you-need-Paper.pdf', 'page': 0}, page_content='Attention Is All You Need\\nAshish Vaswani∗\\nGoogle Brain\\navaswani@google.comNoam Shazeer∗\\nGoogle Brain\\nnoam@google.comNiki Parmar∗\\nGoogle Research\\nnikip@google.comJakob Uszkoreit∗\\nGoogle Research\\nusz@google.com\\nLlion Jones∗\\nGoogle Research\\nllion@google.comAidan N. Gomez∗†\\nUniversity of Toronto\\naidan@cs.toronto.eduŁukasz Kaiser∗\\nGoogle Brain\\nlukaszkaiser@google.com\\nIllia Polosukhin∗‡\\nillia.polosukhin@gmail.com\\nAbstract\\nThe dominant sequence transduction models are based on complex recurrent or\\nconvolutional neural networks that include an encoder and a decoder. The best\\nperforming models also connect the encoder and decoder through an attention\\nmechanism. We propose a new simple network architecture, the Transformer,\\nbased solely on attention mechanisms, dispensing with recurrence and convolutions\\nentirely. Experiments on two machine translation tasks show these models to\\nbe superior in quality while being more parallelizable and requiring signiﬁcantly\\nless time to train. Our model achieves 28.4 BLEU on the WMT 2014 English-\\nto-German translation task, improving over the existing best results, including\\nensembles, by over 2 BLEU. On the WMT 2014 English-to-French translation task,\\nour model establishes a new single-model state-of-the-art BLEU score of 41.0 after\\ntraining for 3.5 days on eight GPUs, a small fraction of the training costs of the\\nbest models from the literature.\\n1 Introduction\\nRecurrent neural networks, long short-term memory [ 12] and gated recurrent [ 7] neural networks\\nin particular, have been ﬁrmly established as state of the art approaches in sequence modeling and\\ntransduction problems such as language modeling and machine translation [ 29,2,5]. Numerous\\nefforts have since continued to push the boundaries of recurrent language models and encoder-decoder\\narchitectures [31, 21, 13].\\n∗Equal contribution. Listing order is random. Jakob proposed replacing RNNs with self-attention and started\\nthe effort to evaluate this idea. Ashish, with Illia, designed and implemented the ﬁrst Transformer models and\\nhas been crucially involved in every aspect of this work. Noam proposed scaled dot-product attention, multi-head\\nattention and the parameter-free position representation and became the other person involved in nearly every\\ndetail. Niki designed, implemented, tuned and evaluated countless model variants in our original codebase and\\ntensor2tensor. Llion also experimented with novel model variants, was responsible for our initial codebase, and\\nefﬁcient inference and visualizations. Lukasz and Aidan spent countless long days designing various parts of and\\nimplementing tensor2tensor, replacing our earlier codebase, greatly improving results and massively accelerating\\nour research.\\n†Work performed while at Google Brain.\\n‡Work performed while at Google Research.\\n31st Conference on Neural Information Processing Systems (NIPS 2017), Long Beach, CA, USA.'),\n",
       " Document(metadata={'source': 'C:\\\\Users\\\\Admin\\\\Desktop\\\\GenAI Krishna naik\\\\Langchain Basics\\\\1-Langchain\\\\NIPS-2017-attention-is-all-you-need-Paper.pdf', 'page': 1}, page_content='Recurrent models typically factor computation along the symbol positions of the input and output\\nsequences. Aligning the positions to steps in computation time, they generate a sequence of hidden\\nstatesht, as a function of the previous hidden state ht−1and the input for position t. This inherently\\nsequential nature precludes parallelization within training examples, which becomes critical at longer\\nsequence lengths, as memory constraints limit batching across examples. Recent work has achieved\\nsigniﬁcant improvements in computational efﬁciency through factorization tricks [ 18] and conditional\\ncomputation [ 26], while also improving model performance in case of the latter. The fundamental\\nconstraint of sequential computation, however, remains.\\nAttention mechanisms have become an integral part of compelling sequence modeling and transduc-\\ntion models in various tasks, allowing modeling of dependencies without regard to their distance in\\nthe input or output sequences [ 2,16]. In all but a few cases [ 22], however, such attention mechanisms\\nare used in conjunction with a recurrent network.\\nIn this work we propose the Transformer, a model architecture eschewing recurrence and instead\\nrelying entirely on an attention mechanism to draw global dependencies between input and output.\\nThe Transformer allows for signiﬁcantly more parallelization and can reach a new state of the art in\\ntranslation quality after being trained for as little as twelve hours on eight P100 GPUs.\\n2 Background\\nThe goal of reducing sequential computation also forms the foundation of the Extended Neural GPU\\n[20], ByteNet [ 15] and ConvS2S [ 8], all of which use convolutional neural networks as basic building\\nblock, computing hidden representations in parallel for all input and output positions. In these models,\\nthe number of operations required to relate signals from two arbitrary input or output positions grows\\nin the distance between positions, linearly for ConvS2S and logarithmically for ByteNet. This makes\\nit more difﬁcult to learn dependencies between distant positions [ 11]. In the Transformer this is\\nreduced to a constant number of operations, albeit at the cost of reduced effective resolution due\\nto averaging attention-weighted positions, an effect we counteract with Multi-Head Attention as\\ndescribed in section 3.2.\\nSelf-attention, sometimes called intra-attention is an attention mechanism relating different positions\\nof a single sequence in order to compute a representation of the sequence. Self-attention has been\\nused successfully in a variety of tasks including reading comprehension, abstractive summarization,\\ntextual entailment and learning task-independent sentence representations [4, 22, 23, 19].\\nEnd-to-end memory networks are based on a recurrent attention mechanism instead of sequence-\\naligned recurrence and have been shown to perform well on simple-language question answering and\\nlanguage modeling tasks [28].\\nTo the best of our knowledge, however, the Transformer is the ﬁrst transduction model relying\\nentirely on self-attention to compute representations of its input and output without using sequence-\\naligned RNNs or convolution. In the following sections, we will describe the Transformer, motivate\\nself-attention and discuss its advantages over models such as [14, 15] and [8].\\n3 Model Architecture\\nMost competitive neural sequence transduction models have an encoder-decoder structure [ 5,2,29].\\nHere, the encoder maps an input sequence of symbol representations (x1,...,x n)to a sequence\\nof continuous representations z= (z1,...,z n). Given z, the decoder then generates an output\\nsequence (y1,...,y m)of symbols one element at a time. At each step the model is auto-regressive\\n[9], consuming the previously generated symbols as additional input when generating the next.\\nThe Transformer follows this overall architecture using stacked self-attention and point-wise, fully\\nconnected layers for both the encoder and decoder, shown in the left and right halves of Figure 1,\\nrespectively.\\n3.1 Encoder and Decoder Stacks\\nEncoder: The encoder is composed of a stack of N= 6 identical layers. Each layer has two\\nsub-layers. The ﬁrst is a multi-head self-attention mechanism, and the second is a simple, position-\\n2'),\n",
       " Document(metadata={'source': 'C:\\\\Users\\\\Admin\\\\Desktop\\\\GenAI Krishna naik\\\\Langchain Basics\\\\1-Langchain\\\\NIPS-2017-attention-is-all-you-need-Paper.pdf', 'page': 2}, page_content='Figure 1: The Transformer - model architecture.\\nwise fully connected feed-forward network. We employ a residual connection [ 10] around each of\\nthe two sub-layers, followed by layer normalization [ 1]. That is, the output of each sub-layer is\\nLayerNorm( x+ Sublayer( x)), where Sublayer(x)is the function implemented by the sub-layer\\nitself. To facilitate these residual connections, all sub-layers in the model, as well as the embedding\\nlayers, produce outputs of dimension dmodel = 512 .\\nDecoder: The decoder is also composed of a stack of N= 6identical layers. In addition to the two\\nsub-layers in each encoder layer, the decoder inserts a third sub-layer, which performs multi-head\\nattention over the output of the encoder stack. Similar to the encoder, we employ residual connections\\naround each of the sub-layers, followed by layer normalization. We also modify the self-attention\\nsub-layer in the decoder stack to prevent positions from attending to subsequent positions. This\\nmasking, combined with fact that the output embeddings are offset by one position, ensures that the\\npredictions for position ican depend only on the known outputs at positions less than i.\\n3.2 Attention\\nAn attention function can be described as mapping a query and a set of key-value pairs to an output,\\nwhere the query, keys, values, and output are all vectors. The output is computed as a weighted sum\\nof the values, where the weight assigned to each value is computed by a compatibility function of the\\nquery with the corresponding key.\\n3.2.1 Scaled Dot-Product Attention\\nWe call our particular attention \"Scaled Dot-Product Attention\" (Figure 2). The input consists of\\nqueries and keys of dimension dk, and values of dimension dv. We compute the dot products of the\\n3'),\n",
       " Document(metadata={'source': 'C:\\\\Users\\\\Admin\\\\Desktop\\\\GenAI Krishna naik\\\\Langchain Basics\\\\1-Langchain\\\\NIPS-2017-attention-is-all-you-need-Paper.pdf', 'page': 3}, page_content='Scaled Dot-Product Attention\\n Multi-Head Attention\\nFigure 2: (left) Scaled Dot-Product Attention. (right) Multi-Head Attention consists of several\\nattention layers running in parallel.\\nquery with all keys, divide each by√dk, and apply a softmax function to obtain the weights on the\\nvalues.\\nIn practice, we compute the attention function on a set of queries simultaneously, packed together\\ninto a matrix Q. The keys and values are also packed together into matrices KandV. We compute\\nthe matrix of outputs as:\\nAttention(Q,K,V ) = softmax(QKT\\n√dk)V (1)\\nThe two most commonly used attention functions are additive attention [ 2], and dot-product (multi-\\nplicative) attention. Dot-product attention is identical to our algorithm, except for the scaling factor\\nof1√dk. Additive attention computes the compatibility function using a feed-forward network with\\na single hidden layer. While the two are similar in theoretical complexity, dot-product attention is\\nmuch faster and more space-efﬁcient in practice, since it can be implemented using highly optimized\\nmatrix multiplication code.\\nWhile for small values of dkthe two mechanisms perform similarly, additive attention outperforms\\ndot product attention without scaling for larger values of dk[3]. We suspect that for large values of\\ndk, the dot products grow large in magnitude, pushing the softmax function into regions where it has\\nextremely small gradients4. To counteract this effect, we scale the dot products by1√dk.\\n3.2.2 Multi-Head Attention\\nInstead of performing a single attention function with dmodel-dimensional keys, values and queries,\\nwe found it beneﬁcial to linearly project the queries, keys and values htimes with different, learned\\nlinear projections to dk,dkanddvdimensions, respectively. On each of these projected versions of\\nqueries, keys and values we then perform the attention function in parallel, yielding dv-dimensional\\noutput values. These are concatenated and once again projected, resulting in the ﬁnal values, as\\ndepicted in Figure 2.\\nMulti-head attention allows the model to jointly attend to information from different representation\\nsubspaces at different positions. With a single attention head, averaging inhibits this.\\n4To illustrate why the dot products get large, assume that the components of qandkare independent random\\nvariables with mean 0and variance 1. Then their dot product, q·k=∑dk\\ni=1qiki, has mean 0and variance dk.\\n4'),\n",
       " Document(metadata={'source': 'C:\\\\Users\\\\Admin\\\\Desktop\\\\GenAI Krishna naik\\\\Langchain Basics\\\\1-Langchain\\\\NIPS-2017-attention-is-all-you-need-Paper.pdf', 'page': 4}, page_content='MultiHead( Q,K,V ) = Concat(head 1,...,head h)WO\\nwhere head i= Attention( QWQ\\ni,KWK\\ni,VWV\\ni)\\nWhere the projections are parameter matrices WQ\\ni∈Rdmodel×dk,WK\\ni∈Rdmodel×dk,WV\\ni∈Rdmodel×dv\\nandWO∈Rhdv×dmodel.\\nIn this work we employ h= 8 parallel attention layers, or heads. For each of these we use\\ndk=dv=dmodel/h= 64 . Due to the reduced dimension of each head, the total computational cost\\nis similar to that of single-head attention with full dimensionality.\\n3.2.3 Applications of Attention in our Model\\nThe Transformer uses multi-head attention in three different ways:\\n•In \"encoder-decoder attention\" layers, the queries come from the previous decoder layer,\\nand the memory keys and values come from the output of the encoder. This allows every\\nposition in the decoder to attend over all positions in the input sequence. This mimics the\\ntypical encoder-decoder attention mechanisms in sequence-to-sequence models such as\\n[31, 2, 8].\\n•The encoder contains self-attention layers. In a self-attention layer all of the keys, values\\nand queries come from the same place, in this case, the output of the previous layer in the\\nencoder. Each position in the encoder can attend to all positions in the previous layer of the\\nencoder.\\n•Similarly, self-attention layers in the decoder allow each position in the decoder to attend to\\nall positions in the decoder up to and including that position. We need to prevent leftward\\ninformation ﬂow in the decoder to preserve the auto-regressive property. We implement this\\ninside of scaled dot-product attention by masking out (setting to −∞) all values in the input\\nof the softmax which correspond to illegal connections. See Figure 2.\\n3.3 Position-wise Feed-Forward Networks\\nIn addition to attention sub-layers, each of the layers in our encoder and decoder contains a fully\\nconnected feed-forward network, which is applied to each position separately and identically. This\\nconsists of two linear transformations with a ReLU activation in between.\\nFFN(x) = max(0,xW 1+b1)W2+b2 (2)\\nWhile the linear transformations are the same across different positions, they use different parameters\\nfrom layer to layer. Another way of describing this is as two convolutions with kernel size 1.\\nThe dimensionality of input and output is dmodel = 512 , and the inner-layer has dimensionality\\ndff= 2048 .\\n3.4 Embeddings and Softmax\\nSimilarly to other sequence transduction models, we use learned embeddings to convert the input\\ntokens and output tokens to vectors of dimension dmodel. We also use the usual learned linear transfor-\\nmation and softmax function to convert the decoder output to predicted next-token probabilities. In\\nour model, we share the same weight matrix between the two embedding layers and the pre-softmax\\nlinear transformation, similar to [ 24]. In the embedding layers, we multiply those weights by√dmodel.\\n3.5 Positional Encoding\\nSince our model contains no recurrence and no convolution, in order for the model to make use of the\\norder of the sequence, we must inject some information about the relative or absolute position of the\\ntokens in the sequence. To this end, we add \"positional encodings\" to the input embeddings at the\\n5'),\n",
       " Document(metadata={'source': 'C:\\\\Users\\\\Admin\\\\Desktop\\\\GenAI Krishna naik\\\\Langchain Basics\\\\1-Langchain\\\\NIPS-2017-attention-is-all-you-need-Paper.pdf', 'page': 5}, page_content='Table 1: Maximum path lengths, per-layer complexity and minimum number of sequential operations\\nfor different layer types. nis the sequence length, dis the representation dimension, kis the kernel\\nsize of convolutions and rthe size of the neighborhood in restricted self-attention.\\nLayer Type Complexity per Layer Sequential Maximum Path Length\\nOperations\\nSelf-Attention O(n2·d) O(1) O(1)\\nRecurrent O(n·d2) O(n) O(n)\\nConvolutional O(k·n·d2)O(1) O(logk(n))\\nSelf-Attention (restricted) O(r·n·d)O(1) O(n/r)\\nbottoms of the encoder and decoder stacks. The positional encodings have the same dimension dmodel\\nas the embeddings, so that the two can be summed. There are many choices of positional encodings,\\nlearned and ﬁxed [8].\\nIn this work, we use sine and cosine functions of different frequencies:\\nPE(pos,2i)=sin(pos/100002i/d model)\\nPE(pos,2i+1)=cos(pos/100002i/d model)\\nwhereposis the position and iis the dimension. That is, each dimension of the positional encoding\\ncorresponds to a sinusoid. The wavelengths form a geometric progression from 2πto10000·2π. We\\nchose this function because we hypothesized it would allow the model to easily learn to attend by\\nrelative positions, since for any ﬁxed offset k,PEpos+kcan be represented as a linear function of\\nPEpos.\\nWe also experimented with using learned positional embeddings [ 8] instead, and found that the two\\nversions produced nearly identical results (see Table 3 row (E)). We chose the sinusoidal version\\nbecause it may allow the model to extrapolate to sequence lengths longer than the ones encountered\\nduring training.\\n4 Why Self-Attention\\nIn this section we compare various aspects of self-attention layers to the recurrent and convolu-\\ntional layers commonly used for mapping one variable-length sequence of symbol representations\\n(x1,...,x n)to another sequence of equal length (z1,...,z n), withxi,zi∈Rd, such as a hidden\\nlayer in a typical sequence transduction encoder or decoder. Motivating our use of self-attention we\\nconsider three desiderata.\\nOne is the total computational complexity per layer. Another is the amount of computation that can\\nbe parallelized, as measured by the minimum number of sequential operations required.\\nThe third is the path length between long-range dependencies in the network. Learning long-range\\ndependencies is a key challenge in many sequence transduction tasks. One key factor affecting the\\nability to learn such dependencies is the length of the paths forward and backward signals have to\\ntraverse in the network. The shorter these paths between any combination of positions in the input\\nand output sequences, the easier it is to learn long-range dependencies [ 11]. Hence we also compare\\nthe maximum path length between any two input and output positions in networks composed of the\\ndifferent layer types.\\nAs noted in Table 1, a self-attention layer connects all positions with a constant number of sequentially\\nexecuted operations, whereas a recurrent layer requires O(n)sequential operations. In terms of\\ncomputational complexity, self-attention layers are faster than recurrent layers when the sequence\\nlengthnis smaller than the representation dimensionality d, which is most often the case with\\nsentence representations used by state-of-the-art models in machine translations, such as word-piece\\n[31] and byte-pair [ 25] representations. To improve computational performance for tasks involving\\nvery long sequences, self-attention could be restricted to considering only a neighborhood of size rin\\n6'),\n",
       " Document(metadata={'source': 'C:\\\\Users\\\\Admin\\\\Desktop\\\\GenAI Krishna naik\\\\Langchain Basics\\\\1-Langchain\\\\NIPS-2017-attention-is-all-you-need-Paper.pdf', 'page': 6}, page_content='the input sequence centered around the respective output position. This would increase the maximum\\npath length to O(n/r). We plan to investigate this approach further in future work.\\nA single convolutional layer with kernel width k<n does not connect all pairs of input and output\\npositions. Doing so requires a stack of O(n/k)convolutional layers in the case of contiguous kernels,\\norO(logk(n))in the case of dilated convolutions [ 15], increasing the length of the longest paths\\nbetween any two positions in the network. Convolutional layers are generally more expensive than\\nrecurrent layers, by a factor of k. Separable convolutions [ 6], however, decrease the complexity\\nconsiderably, to O(k·n·d+n·d2). Even with k=n, however, the complexity of a separable\\nconvolution is equal to the combination of a self-attention layer and a point-wise feed-forward layer,\\nthe approach we take in our model.\\nAs side beneﬁt, self-attention could yield more interpretable models. We inspect attention distributions\\nfrom our models and present and discuss examples in the appendix. Not only do individual attention\\nheads clearly learn to perform different tasks, many appear to exhibit behavior related to the syntactic\\nand semantic structure of the sentences.\\n5 Training\\nThis section describes the training regime for our models.\\n5.1 Training Data and Batching\\nWe trained on the standard WMT 2014 English-German dataset consisting of about 4.5 million\\nsentence pairs. Sentences were encoded using byte-pair encoding [ 3], which has a shared source-\\ntarget vocabulary of about 37000 tokens. For English-French, we used the signiﬁcantly larger WMT\\n2014 English-French dataset consisting of 36M sentences and split tokens into a 32000 word-piece\\nvocabulary [ 31]. Sentence pairs were batched together by approximate sequence length. Each training\\nbatch contained a set of sentence pairs containing approximately 25000 source tokens and 25000\\ntarget tokens.\\n5.2 Hardware and Schedule\\nWe trained our models on one machine with 8 NVIDIA P100 GPUs. For our base models using\\nthe hyperparameters described throughout the paper, each training step took about 0.4 seconds. We\\ntrained the base models for a total of 100,000 steps or 12 hours. For our big models,(described on the\\nbottom line of table 3), step time was 1.0 seconds. The big models were trained for 300,000 steps\\n(3.5 days).\\n5.3 Optimizer\\nWe used the Adam optimizer [ 17] withβ1= 0.9,β2= 0.98andϵ= 10−9. We varied the learning\\nrate over the course of training, according to the formula:\\nlrate =d−0.5\\nmodel·min(step_num−0.5,step _num·warmup _steps−1.5) (3)\\nThis corresponds to increasing the learning rate linearly for the ﬁrst warmup _steps training steps,\\nand decreasing it thereafter proportionally to the inverse square root of the step number. We used\\nwarmup _steps = 4000 .\\n5.4 Regularization\\nWe employ three types of regularization during training:\\nResidual Dropout We apply dropout [ 27] to the output of each sub-layer, before it is added to the\\nsub-layer input and normalized. In addition, we apply dropout to the sums of the embeddings and the\\npositional encodings in both the encoder and decoder stacks. For the base model, we use a rate of\\nPdrop= 0.1.\\n7'),\n",
       " Document(metadata={'source': 'C:\\\\Users\\\\Admin\\\\Desktop\\\\GenAI Krishna naik\\\\Langchain Basics\\\\1-Langchain\\\\NIPS-2017-attention-is-all-you-need-Paper.pdf', 'page': 7}, page_content='Table 2: The Transformer achieves better BLEU scores than previous state-of-the-art models on the\\nEnglish-to-German and English-to-French newstest2014 tests at a fraction of the training cost.\\nModelBLEU Training Cost (FLOPs)\\nEN-DE EN-FR EN-DE EN-FR\\nByteNet [15] 23.75\\nDeep-Att + PosUnk [32] 39.2 1.0·1020\\nGNMT + RL [31] 24.6 39.92 2.3·10191.4·1020\\nConvS2S [8] 25.16 40.46 9.6·10181.5·1020\\nMoE [26] 26.03 40.56 2.0·10191.2·1020\\nDeep-Att + PosUnk Ensemble [32] 40.4 8.0·1020\\nGNMT + RL Ensemble [31] 26.30 41.16 1.8·10201.1·1021\\nConvS2S Ensemble [8] 26.36 41.29 7.7·10191.2·1021\\nTransformer (base model) 27.3 38.1 3.3·1018\\nTransformer (big) 28.4 41.0 2.3·1019\\nLabel Smoothing During training, we employed label smoothing of value ϵls= 0.1[30]. This\\nhurts perplexity, as the model learns to be more unsure, but improves accuracy and BLEU score.\\n6 Results\\n6.1 Machine Translation\\nOn the WMT 2014 English-to-German translation task, the big transformer model (Transformer (big)\\nin Table 2) outperforms the best previously reported models (including ensembles) by more than 2.0\\nBLEU, establishing a new state-of-the-art BLEU score of 28.4. The conﬁguration of this model is\\nlisted in the bottom line of Table 3. Training took 3.5days on 8P100 GPUs. Even our base model\\nsurpasses all previously published models and ensembles, at a fraction of the training cost of any of\\nthe competitive models.\\nOn the WMT 2014 English-to-French translation task, our big model achieves a BLEU score of 41.0,\\noutperforming all of the previously published single models, at less than 1/4the training cost of the\\nprevious state-of-the-art model. The Transformer (big) model trained for English-to-French used\\ndropout rate Pdrop= 0.1, instead of 0.3.\\nFor the base models, we used a single model obtained by averaging the last 5 checkpoints, which\\nwere written at 10-minute intervals. For the big models, we averaged the last 20 checkpoints. We\\nused beam search with a beam size of 4and length penalty α= 0.6[31]. These hyperparameters\\nwere chosen after experimentation on the development set. We set the maximum output length during\\ninference to input length + 50, but terminate early when possible [31].\\nTable 2 summarizes our results and compares our translation quality and training costs to other model\\narchitectures from the literature. We estimate the number of ﬂoating point operations used to train a\\nmodel by multiplying the training time, the number of GPUs used, and an estimate of the sustained\\nsingle-precision ﬂoating-point capacity of each GPU5.\\n6.2 Model Variations\\nTo evaluate the importance of different components of the Transformer, we varied our base model\\nin different ways, measuring the change in performance on English-to-German translation on the\\ndevelopment set, newstest2013. We used beam search as described in the previous section, but no\\ncheckpoint averaging. We present these results in Table 3.\\nIn Table 3 rows (A), we vary the number of attention heads and the attention key and value dimensions,\\nkeeping the amount of computation constant, as described in Section 3.2.2. While single-head\\nattention is 0.9 BLEU worse than the best setting, quality also drops off with too many heads.\\n5We used values of 2.8, 3.7, 6.0 and 9.5 TFLOPS for K80, K40, M40 and P100, respectively.\\n8'),\n",
       " Document(metadata={'source': 'C:\\\\Users\\\\Admin\\\\Desktop\\\\GenAI Krishna naik\\\\Langchain Basics\\\\1-Langchain\\\\NIPS-2017-attention-is-all-you-need-Paper.pdf', 'page': 8}, page_content='Table 3: Variations on the Transformer architecture. Unlisted values are identical to those of the base\\nmodel. All metrics are on the English-to-German translation development set, newstest2013. Listed\\nperplexities are per-wordpiece, according to our byte-pair encoding, and should not be compared to\\nper-word perplexities.\\nN d modeldffh d kdvPdropϵlstrain PPL BLEU params\\nsteps (dev) (dev)×106\\nbase 6 512 2048 8 64 64 0.1 0.1 100K 4.92 25.8 65\\n(A)1 512 512 5.29 24.9\\n4 128 128 5.00 25.5\\n16 32 32 4.91 25.8\\n32 16 16 5.01 25.4\\n(B)16 5.16 25.1 58\\n32 5.01 25.4 60\\n(C)2 6.11 23.7 36\\n4 5.19 25.3 50\\n8 4.88 25.5 80\\n256 32 32 5.75 24.5 28\\n1024 128 128 4.66 26.0 168\\n1024 5.12 25.4 53\\n4096 4.75 26.2 90\\n(D)0.0 5.77 24.6\\n0.2 4.95 25.5\\n0.0 4.67 25.3\\n0.2 5.47 25.7\\n(E) positional embedding instead of sinusoids 4.92 25.7\\nbig 6 1024 4096 16 0.3 300K 4.33 26.4 213\\nIn Table 3 rows (B), we observe that reducing the attention key size dkhurts model quality. This\\nsuggests that determining compatibility is not easy and that a more sophisticated compatibility\\nfunction than dot product may be beneﬁcial. We further observe in rows (C) and (D) that, as expected,\\nbigger models are better, and dropout is very helpful in avoiding over-ﬁtting. In row (E) we replace our\\nsinusoidal positional encoding with learned positional embeddings [ 8], and observe nearly identical\\nresults to the base model.\\n7 Conclusion\\nIn this work, we presented the Transformer, the ﬁrst sequence transduction model based entirely on\\nattention, replacing the recurrent layers most commonly used in encoder-decoder architectures with\\nmulti-headed self-attention.\\nFor translation tasks, the Transformer can be trained signiﬁcantly faster than architectures based\\non recurrent or convolutional layers. On both WMT 2014 English-to-German and WMT 2014\\nEnglish-to-French translation tasks, we achieve a new state of the art. In the former task our best\\nmodel outperforms even all previously reported ensembles.\\nWe are excited about the future of attention-based models and plan to apply them to other tasks. We\\nplan to extend the Transformer to problems involving input and output modalities other than text and\\nto investigate local, restricted attention mechanisms to efﬁciently handle large inputs and outputs\\nsuch as images, audio and video. Making generation less sequential is another research goals of ours.\\nThe code we used to train and evaluate our models is available at https://github.com/\\ntensorflow/tensor2tensor .\\nAcknowledgements We are grateful to Nal Kalchbrenner and Stephan Gouws for their fruitful\\ncomments, corrections and inspiration.\\n9'),\n",
       " Document(metadata={'source': 'C:\\\\Users\\\\Admin\\\\Desktop\\\\GenAI Krishna naik\\\\Langchain Basics\\\\1-Langchain\\\\NIPS-2017-attention-is-all-you-need-Paper.pdf', 'page': 9}, page_content='References\\n[1]Jimmy Lei Ba, Jamie Ryan Kiros, and Geoffrey E Hinton. Layer normalization. arXiv preprint\\narXiv:1607.06450 , 2016.\\n[2]Dzmitry Bahdanau, Kyunghyun Cho, and Yoshua Bengio. Neural machine translation by jointly\\nlearning to align and translate. CoRR , abs/1409.0473, 2014.\\n[3]Denny Britz, Anna Goldie, Minh-Thang Luong, and Quoc V . Le. Massive exploration of neural\\nmachine translation architectures. CoRR , abs/1703.03906, 2017.\\n[4]Jianpeng Cheng, Li Dong, and Mirella Lapata. Long short-term memory-networks for machine\\nreading. arXiv preprint arXiv:1601.06733 , 2016.\\n[5]Kyunghyun Cho, Bart van Merrienboer, Caglar Gulcehre, Fethi Bougares, Holger Schwenk,\\nand Yoshua Bengio. Learning phrase representations using rnn encoder-decoder for statistical\\nmachine translation. CoRR , abs/1406.1078, 2014.\\n[6]Francois Chollet. Xception: Deep learning with depthwise separable convolutions. arXiv\\npreprint arXiv:1610.02357 , 2016.\\n[7]Junyoung Chung, Çaglar Gülçehre, Kyunghyun Cho, and Yoshua Bengio. Empirical evaluation\\nof gated recurrent neural networks on sequence modeling. CoRR , abs/1412.3555, 2014.\\n[8]Jonas Gehring, Michael Auli, David Grangier, Denis Yarats, and Yann N. Dauphin. Convolu-\\ntional sequence to sequence learning. arXiv preprint arXiv:1705.03122v2 , 2017.\\n[9]Alex Graves. Generating sequences with recurrent neural networks. arXiv preprint\\narXiv:1308.0850 , 2013.\\n[10] Kaiming He, Xiangyu Zhang, Shaoqing Ren, and Jian Sun. Deep residual learning for im-\\nage recognition. In Proceedings of the IEEE Conference on Computer Vision and Pattern\\nRecognition , pages 770–778, 2016.\\n[11] Sepp Hochreiter, Yoshua Bengio, Paolo Frasconi, and Jürgen Schmidhuber. Gradient ﬂow in\\nrecurrent nets: the difﬁculty of learning long-term dependencies, 2001.\\n[12] Sepp Hochreiter and Jürgen Schmidhuber. Long short-term memory. Neural computation ,\\n9(8):1735–1780, 1997.\\n[13] Rafal Jozefowicz, Oriol Vinyals, Mike Schuster, Noam Shazeer, and Yonghui Wu. Exploring\\nthe limits of language modeling. arXiv preprint arXiv:1602.02410 , 2016.\\n[14] Łukasz Kaiser and Ilya Sutskever. Neural GPUs learn algorithms. In International Conference\\non Learning Representations (ICLR) , 2016.\\n[15] Nal Kalchbrenner, Lasse Espeholt, Karen Simonyan, Aaron van den Oord, Alex Graves, and Ko-\\nray Kavukcuoglu. Neural machine translation in linear time. arXiv preprint arXiv:1610.10099v2 ,\\n2017.\\n[16] Yoon Kim, Carl Denton, Luong Hoang, and Alexander M. Rush. Structured attention networks.\\nInInternational Conference on Learning Representations , 2017.\\n[17] Diederik Kingma and Jimmy Ba. Adam: A method for stochastic optimization. In ICLR , 2015.\\n[18] Oleksii Kuchaiev and Boris Ginsburg. Factorization tricks for LSTM networks. arXiv preprint\\narXiv:1703.10722 , 2017.\\n[19] Zhouhan Lin, Minwei Feng, Cicero Nogueira dos Santos, Mo Yu, Bing Xiang, Bowen\\nZhou, and Yoshua Bengio. A structured self-attentive sentence embedding. arXiv preprint\\narXiv:1703.03130 , 2017.\\n[20] Samy Bengio Łukasz Kaiser. Can active memory replace attention? In Advances in Neural\\nInformation Processing Systems, (NIPS) , 2016.\\n10'),\n",
       " Document(metadata={'source': 'C:\\\\Users\\\\Admin\\\\Desktop\\\\GenAI Krishna naik\\\\Langchain Basics\\\\1-Langchain\\\\NIPS-2017-attention-is-all-you-need-Paper.pdf', 'page': 10}, page_content='[21] Minh-Thang Luong, Hieu Pham, and Christopher D Manning. Effective approaches to attention-\\nbased neural machine translation. arXiv preprint arXiv:1508.04025 , 2015.\\n[22] Ankur Parikh, Oscar Täckström, Dipanjan Das, and Jakob Uszkoreit. A decomposable attention\\nmodel. In Empirical Methods in Natural Language Processing , 2016.\\n[23] Romain Paulus, Caiming Xiong, and Richard Socher. A deep reinforced model for abstractive\\nsummarization. arXiv preprint arXiv:1705.04304 , 2017.\\n[24] Oﬁr Press and Lior Wolf. Using the output embedding to improve language models. arXiv\\npreprint arXiv:1608.05859 , 2016.\\n[25] Rico Sennrich, Barry Haddow, and Alexandra Birch. Neural machine translation of rare words\\nwith subword units. arXiv preprint arXiv:1508.07909 , 2015.\\n[26] Noam Shazeer, Azalia Mirhoseini, Krzysztof Maziarz, Andy Davis, Quoc Le, Geoffrey Hinton,\\nand Jeff Dean. Outrageously large neural networks: The sparsely-gated mixture-of-experts\\nlayer. arXiv preprint arXiv:1701.06538 , 2017.\\n[27] Nitish Srivastava, Geoffrey E Hinton, Alex Krizhevsky, Ilya Sutskever, and Ruslan Salakhutdi-\\nnov. Dropout: a simple way to prevent neural networks from overﬁtting. Journal of Machine\\nLearning Research , 15(1):1929–1958, 2014.\\n[28] Sainbayar Sukhbaatar, arthur szlam, Jason Weston, and Rob Fergus. End-to-end memory\\nnetworks. In C. Cortes, N. D. Lawrence, D. D. Lee, M. Sugiyama, and R. Garnett, editors,\\nAdvances in Neural Information Processing Systems 28 , pages 2440–2448. Curran Associates,\\nInc., 2015.\\n[29] Ilya Sutskever, Oriol Vinyals, and Quoc VV Le. Sequence to sequence learning with neural\\nnetworks. In Advances in Neural Information Processing Systems , pages 3104–3112, 2014.\\n[30] Christian Szegedy, Vincent Vanhoucke, Sergey Ioffe, Jonathon Shlens, and Zbigniew Wojna.\\nRethinking the inception architecture for computer vision. CoRR , abs/1512.00567, 2015.\\n[31] Yonghui Wu, Mike Schuster, Zhifeng Chen, Quoc V Le, Mohammad Norouzi, Wolfgang\\nMacherey, Maxim Krikun, Yuan Cao, Qin Gao, Klaus Macherey, et al. Google’s neural machine\\ntranslation system: Bridging the gap between human and machine translation. arXiv preprint\\narXiv:1609.08144 , 2016.\\n[32] Jie Zhou, Ying Cao, Xuguang Wang, Peng Li, and Wei Xu. Deep recurrent models with\\nfast-forward connections for neural machine translation. CoRR , abs/1606.04199, 2016.\\n11')]"
      ]
     },
     "execution_count": 9,
     "metadata": {},
     "output_type": "execute_result"
    }
   ],
   "source": [
    "loader"
   ]
  },
  {
   "cell_type": "code",
   "execution_count": 14,
   "metadata": {},
   "outputs": [
    {
     "data": {
      "text/plain": [
       "0"
      ]
     },
     "execution_count": 14,
     "metadata": {},
     "output_type": "execute_result"
    }
   ],
   "source": [
    "loader[0].metadata['page']"
   ]
  },
  {
   "cell_type": "markdown",
   "metadata": {},
   "source": [
    "## We can get the whatever content from the website using class "
   ]
  },
  {
   "cell_type": "code",
   "execution_count": 12,
   "metadata": {},
   "outputs": [],
   "source": [
    "# Web base loader\n",
    "import bs4\n",
    "from langchain_community.document_loaders import WebBaseLoader\n",
    "loader = WebBaseLoader(web_paths=[\"https://www.livemint.com/industry/media/hrithik-roshan-seeks-justice-for-raped-murdered-kolkata-doctor-says-i-stand-with-all-the-doctors-11723742358594.html\",\n",
    "                                  \"https://timesofindia.indiatimes.com/entertainment/hindi/bollywood/news/shah-rukh-khans-daily-routine-fitness-secret-revealed-i-go-to-sleep-at-5am-eat-one-meal-a-day/articleshow/112581188.cms\"]\n",
    "                       ,bs_kwargs=dict(parse_only = bs4.SoupStrainer(\n",
    "                           \n",
    "                           class_ = ('HNMDR',) # in the second url this class is there\n",
    "                       )\n",
    "                                      \n",
    "                                      ))"
   ]
  },
  {
   "cell_type": "code",
   "execution_count": 13,
   "metadata": {},
   "outputs": [],
   "source": [
    "docs=loader.load()"
   ]
  },
  {
   "cell_type": "code",
   "execution_count": 14,
   "metadata": {},
   "outputs": [
    {
     "data": {
      "text/plain": [
       "[Document(metadata={'source': 'https://www.livemint.com/industry/media/hrithik-roshan-seeks-justice-for-raped-murdered-kolkata-doctor-says-i-stand-with-all-the-doctors-11723742358594.html'}, page_content=''),\n",
       " Document(metadata={'source': 'https://timesofindia.indiatimes.com/entertainment/hindi/bollywood/news/shah-rukh-khans-daily-routine-fitness-secret-revealed-i-go-to-sleep-at-5am-eat-one-meal-a-day/articleshow/112581188.cms'}, page_content=\"Shah Rukh Khan's daily routine, fitness secret revealed: 'I go to sleep at 5am, eat one meal a day'\")]"
      ]
     },
     "execution_count": 14,
     "metadata": {},
     "output_type": "execute_result"
    }
   ],
   "source": [
    "docs"
   ]
  },
  {
   "cell_type": "markdown",
   "metadata": {},
   "source": [
    "### Data splitting"
   ]
  },
  {
   "cell_type": "code",
   "execution_count": 7,
   "metadata": {},
   "outputs": [],
   "source": [
    "from langchain_community.document_loaders import TextLoader\n",
    "doc=TextLoader('peech.txt').load()"
   ]
  },
  {
   "cell_type": "code",
   "execution_count": 8,
   "metadata": {},
   "outputs": [
    {
     "data": {
      "text/plain": [
       "[Document(metadata={'source': 'peech.txt'}, page_content=\"Speech is the use of the human voice as a medium for language. Spoken language combines vowel and consonant sounds to form units of meaning like words, which belong to a language's lexicon. There are many different intentional speech acts, such as informing, declaring, asking, persuading, directing; acts may vary in various aspects like enunciation, intonation, loudness, and tempo to convey meaning. Individuals may also unintentionally communicate aspects of their social position through speech, such as sex, age, place of origin, physiological and mental condition, education, and experiences.\\n\\nWhile normally used to facilitate communication with others, people may also use speech without the intent to communicate. Speech may nevertheless express emotions or desires; people talk to themselves sometimes in acts that are a development of what some psychologists (e.g., Lev Vygotsky) have maintained is the use of silent speech in an interior monologue to vivify and organize cognition, sometimes in the momentary adoption of a dual persona as self addressing self as though addressing another person. Solo speech can be used to memorize or to test one's memorization of things, and in prayer or in meditation.\\n\\nResearchers study many different aspects of speech: speech production and speech perception of the sounds used in a language, speech repetition, speech errors,\\n\\n\\n\\n\\n\\n\")]"
      ]
     },
     "execution_count": 8,
     "metadata": {},
     "output_type": "execute_result"
    }
   ],
   "source": [
    "doc # here type is documents already"
   ]
  },
  {
   "cell_type": "code",
   "execution_count": 9,
   "metadata": {},
   "outputs": [],
   "source": [
    "from langchain_text_splitters import RecursiveCharacterTextSplitter\n",
    "text_splitter=RecursiveCharacterTextSplitter(chunk_size= 300, chunk_overlap = 15)\n",
    "splittedDoc=text_splitter.split_documents(doc)\n"
   ]
  },
  {
   "cell_type": "code",
   "execution_count": 10,
   "metadata": {},
   "outputs": [
    {
     "data": {
      "text/plain": [
       "[Document(metadata={'source': 'peech.txt'}, page_content=\"Speech is the use of the human voice as a medium for language. Spoken language combines vowel and consonant sounds to form units of meaning like words, which belong to a language's lexicon. There are many different intentional speech acts, such as informing, declaring, asking, persuading, directing;\"),\n",
       " Document(metadata={'source': 'peech.txt'}, page_content='directing; acts may vary in various aspects like enunciation, intonation, loudness, and tempo to convey meaning. Individuals may also unintentionally communicate aspects of their social position through speech, such as sex, age, place of origin, physiological and mental condition, education, and'),\n",
       " Document(metadata={'source': 'peech.txt'}, page_content='education, and experiences.'),\n",
       " Document(metadata={'source': 'peech.txt'}, page_content='While normally used to facilitate communication with others, people may also use speech without the intent to communicate. Speech may nevertheless express emotions or desires; people talk to themselves sometimes in acts that are a development of what some psychologists (e.g., Lev Vygotsky) have'),\n",
       " Document(metadata={'source': 'peech.txt'}, page_content=\"Vygotsky) have maintained is the use of silent speech in an interior monologue to vivify and organize cognition, sometimes in the momentary adoption of a dual persona as self addressing self as though addressing another person. Solo speech can be used to memorize or to test one's memorization of\"),\n",
       " Document(metadata={'source': 'peech.txt'}, page_content='of things, and in prayer or in meditation.'),\n",
       " Document(metadata={'source': 'peech.txt'}, page_content='Researchers study many different aspects of speech: speech production and speech perception of the sounds used in a language, speech repetition, speech errors,')]"
      ]
     },
     "execution_count": 10,
     "metadata": {},
     "output_type": "execute_result"
    }
   ],
   "source": [
    "splittedDoc"
   ]
  },
  {
   "cell_type": "markdown",
   "metadata": {},
   "source": [
    "## Convert Text into vector Embedding"
   ]
  },
  {
   "cell_type": "markdown",
   "metadata": {},
   "source": [
    "### OLLAMA\n",
    "Support embeding models, making it possible to build retrieval augmented generation (RAG). Applications that combines text prompts with existing documents or other data.\n",
    "\n",
    "Refer :: ollama website"
   ]
  },
  {
   "cell_type": "code",
   "execution_count": 1,
   "metadata": {},
   "outputs": [],
   "source": [
    "from langchain_community.embeddings import OllamaEmbeddings\n"
   ]
  },
  {
   "cell_type": "code",
   "execution_count": 4,
   "metadata": {},
   "outputs": [],
   "source": [
    "embeddings = OllamaEmbeddings(model=\"gemma2:2b\")  # by default it used llama2, you need to download this to use thiss\n",
    "     \n",
    " "
   ]
  },
  {
   "cell_type": "code",
   "execution_count": 5,
   "metadata": {},
   "outputs": [
    {
     "data": {
      "text/plain": [
       "OllamaEmbeddings(base_url='http://localhost:11434', model='gemma2:2b', embed_instruction='passage: ', query_instruction='query: ', mirostat=None, mirostat_eta=None, mirostat_tau=None, num_ctx=None, num_gpu=None, num_thread=None, repeat_last_n=None, repeat_penalty=None, temperature=None, stop=None, tfs_z=None, top_k=None, top_p=None, show_progress=False, headers=None, model_kwargs=None)"
      ]
     },
     "execution_count": 5,
     "metadata": {},
     "output_type": "execute_result"
    }
   ],
   "source": [
    "embeddings"
   ]
  },
  {
   "cell_type": "code",
   "execution_count": 14,
   "metadata": {},
   "outputs": [
    {
     "data": {
      "text/plain": [
       "[Document(metadata={'source': 'peech.txt'}, page_content=\"Speech is the use of the human voice as a medium for language. Spoken language combines vowel and consonant sounds to form units of meaning like words, which belong to a language's lexicon. There are many different intentional speech acts, such as informing, declaring, asking, persuading, directing;\"),\n",
       " Document(metadata={'source': 'peech.txt'}, page_content='directing; acts may vary in various aspects like enunciation, intonation, loudness, and tempo to convey meaning. Individuals may also unintentionally communicate aspects of their social position through speech, such as sex, age, place of origin, physiological and mental condition, education, and'),\n",
       " Document(metadata={'source': 'peech.txt'}, page_content='education, and experiences.'),\n",
       " Document(metadata={'source': 'peech.txt'}, page_content='While normally used to facilitate communication with others, people may also use speech without the intent to communicate. Speech may nevertheless express emotions or desires; people talk to themselves sometimes in acts that are a development of what some psychologists (e.g., Lev Vygotsky) have'),\n",
       " Document(metadata={'source': 'peech.txt'}, page_content=\"Vygotsky) have maintained is the use of silent speech in an interior monologue to vivify and organize cognition, sometimes in the momentary adoption of a dual persona as self addressing self as though addressing another person. Solo speech can be used to memorize or to test one's memorization of\"),\n",
       " Document(metadata={'source': 'peech.txt'}, page_content='of things, and in prayer or in meditation.'),\n",
       " Document(metadata={'source': 'peech.txt'}, page_content='Researchers study many different aspects of speech: speech production and speech perception of the sounds used in a language, speech repetition, speech errors,')]"
      ]
     },
     "execution_count": 14,
     "metadata": {},
     "output_type": "execute_result"
    }
   ],
   "source": [
    "splittedDoc"
   ]
  },
  {
   "cell_type": "code",
   "execution_count": 12,
   "metadata": {},
   "outputs": [],
   "source": [
    "embed_doc=embeddings.embed_documents(splittedDoc)"
   ]
  },
  {
   "cell_type": "code",
   "execution_count": 15,
   "metadata": {},
   "outputs": [
    {
     "data": {
      "text/plain": [
       "7"
      ]
     },
     "execution_count": 15,
     "metadata": {},
     "output_type": "execute_result"
    }
   ],
   "source": [
    "len(embed_doc)"
   ]
  },
  {
   "cell_type": "code",
   "execution_count": 19,
   "metadata": {},
   "outputs": [
    {
     "data": {
      "text/plain": [
       "2304"
      ]
     },
     "execution_count": 19,
     "metadata": {},
     "output_type": "execute_result"
    }
   ],
   "source": [
    "len(embed_doc[0]) # bu default it takes 234 dim"
   ]
  },
  {
   "cell_type": "code",
   "execution_count": 17,
   "metadata": {},
   "outputs": [
    {
     "data": {
      "text/plain": [
       "[-1.4847198724746704,\n",
       " -1.2043733596801758,\n",
       " -0.7837080955505371,\n",
       " -1.208918809890747,\n",
       " 1.9729417562484741,\n",
       " 0.8090431690216064,\n",
       " -3.9029784202575684,\n",
       " 1.15825617313385,\n",
       " -1.729555606842041,\n",
       " 2.5572876930236816,\n",
       " -0.8990090489387512,\n",
       " -1.8552738428115845,\n",
       " -1.4500048160552979,\n",
       " -1.0241820812225342,\n",
       " 0.23158752918243408,\n",
       " 1.0570179224014282,\n",
       " -7.273867607116699,\n",
       " -2.8407413959503174,\n",
       " -2.904259443283081,\n",
       " -2.3627350330352783,\n",
       " 1.641345739364624,\n",
       " -3.5711615085601807,\n",
       " -1.1002501249313354,\n",
       " 2.213589906692505,\n",
       " 0.8938596844673157,\n",
       " 0.2689591646194458,\n",
       " -1.0739336013793945,\n",
       " -0.07101762294769287,\n",
       " 0.5758952498435974,\n",
       " 0.16492754220962524,\n",
       " -1.2659517526626587,\n",
       " -0.018836669623851776,\n",
       " -0.6126237511634827,\n",
       " 0.8065516352653503,\n",
       " -0.51698899269104,\n",
       " 2.5709383487701416,\n",
       " -0.36737310886383057,\n",
       " 0.04541106894612312,\n",
       " 2.366325616836548,\n",
       " -1.5803301334381104,\n",
       " 0.7099725604057312,\n",
       " -0.6961311101913452,\n",
       " 2.881347417831421,\n",
       " 1.0209404230117798,\n",
       " -0.626591145992279,\n",
       " -2.605803966522217,\n",
       " -3.0192501544952393,\n",
       " -2.3096423149108887,\n",
       " 1.302884817123413,\n",
       " -0.8769817352294922,\n",
       " -1.0760881900787354,\n",
       " 2.6469955444335938,\n",
       " -3.1503512859344482,\n",
       " 5.290670871734619,\n",
       " 0.14248858392238617,\n",
       " 0.17719703912734985,\n",
       " -1.7562540769577026,\n",
       " 0.6267310976982117,\n",
       " 0.3001558184623718,\n",
       " -1.9972939491271973,\n",
       " -1.1336629390716553,\n",
       " -3.172434091567993,\n",
       " -2.6710050106048584,\n",
       " 1.9503217935562134,\n",
       " 2.438918113708496,\n",
       " 0.6007212400436401,\n",
       " -3.6040101051330566,\n",
       " 0.7318997383117676,\n",
       " -1.3867316246032715,\n",
       " -2.6983189582824707,\n",
       " -4.057634353637695,\n",
       " -0.5517074465751648,\n",
       " -2.2193968296051025,\n",
       " -0.3998517096042633,\n",
       " 0.412975013256073,\n",
       " -0.16243314743041992,\n",
       " 0.39553961157798767,\n",
       " 1.2222108840942383,\n",
       " 0.6409465670585632,\n",
       " -3.037219285964966,\n",
       " 1.2645562887191772,\n",
       " -1.2496908903121948,\n",
       " -1.510542631149292,\n",
       " 0.2519506812095642,\n",
       " -1.377131700515747,\n",
       " -0.19942042231559753,\n",
       " -0.42818430066108704,\n",
       " -0.7863595485687256,\n",
       " -3.6501150131225586,\n",
       " 1.0646637678146362,\n",
       " -1.5211358070373535,\n",
       " -0.6278025507926941,\n",
       " 1.2073113918304443,\n",
       " 0.05240708217024803,\n",
       " -1.6116787195205688,\n",
       " -2.0313680171966553,\n",
       " 3.003866195678711,\n",
       " -0.21666592359542847,\n",
       " -3.0101306438446045,\n",
       " -1.1571483612060547,\n",
       " 1.6530441045761108,\n",
       " -0.17880889773368835,\n",
       " 0.7246617674827576,\n",
       " 0.2612614035606384,\n",
       " -1.7614444494247437,\n",
       " -1.5811196565628052,\n",
       " -2.776773691177368,\n",
       " 1.47428560256958,\n",
       " -4.619734287261963,\n",
       " 0.8619136810302734,\n",
       " 1.417267084121704,\n",
       " -1.652679681777954,\n",
       " 0.9379478693008423,\n",
       " 3.336488962173462,\n",
       " -2.2835848331451416,\n",
       " -0.7066794633865356,\n",
       " -0.23596394062042236,\n",
       " -12.59184455871582,\n",
       " -0.702519953250885,\n",
       " 1.2258126735687256,\n",
       " 2.8066675662994385,\n",
       " -0.7630990147590637,\n",
       " -4.55322265625,\n",
       " -1.603833556175232,\n",
       " 1.2241101264953613,\n",
       " 0.5959876775741577,\n",
       " 0.44296324253082275,\n",
       " -2.5180790424346924,\n",
       " -2.9136834144592285,\n",
       " -1.1750608682632446,\n",
       " 0.6396572589874268,\n",
       " -2.9682199954986572,\n",
       " 1.3770091533660889,\n",
       " 0.46918386220932007,\n",
       " -0.45333534479141235,\n",
       " -1.0199859142303467,\n",
       " 3.150698661804199,\n",
       " 3.3813483715057373,\n",
       " 1.7780120372772217,\n",
       " 0.028835508972406387,\n",
       " 0.3870924115180969,\n",
       " 1.1745132207870483,\n",
       " 1.8700971603393555,\n",
       " 0.16211523115634918,\n",
       " -0.3673441410064697,\n",
       " -3.5042645931243896,\n",
       " -1.6029680967330933,\n",
       " 1.763211965560913,\n",
       " -2.1989541053771973,\n",
       " 0.14363901317119598,\n",
       " -2.497807741165161,\n",
       " -3.1731317043304443,\n",
       " -0.7619186043739319,\n",
       " -2.55965518951416,\n",
       " 2.373631715774536,\n",
       " -1.7208306789398193,\n",
       " -2.6063265800476074,\n",
       " 2.384326457977295,\n",
       " -2.6309664249420166,\n",
       " -2.876356363296509,\n",
       " -1.5038642883300781,\n",
       " -1.3059422969818115,\n",
       " -3.63668155670166,\n",
       " 0.08876031637191772,\n",
       " -0.24880288541316986,\n",
       " 1.066307783126831,\n",
       " -2.6695754528045654,\n",
       " 0.5855857729911804,\n",
       " -1.8569200038909912,\n",
       " 0.29609453678131104,\n",
       " -0.17535172402858734,\n",
       " -1.915682315826416,\n",
       " 0.5811505913734436,\n",
       " -0.3575941026210785,\n",
       " -0.6474596261978149,\n",
       " 0.13356749713420868,\n",
       " -1.464210033416748,\n",
       " -0.7075552940368652,\n",
       " -0.46594128012657166,\n",
       " 0.13909895718097687,\n",
       " -0.8942192792892456,\n",
       " -0.3143353760242462,\n",
       " 2.6185221672058105,\n",
       " 0.976944625377655,\n",
       " 21.114818572998047,\n",
       " 0.7600325345993042,\n",
       " -2.4281888008117676,\n",
       " -1.0689414739608765,\n",
       " -1.9389479160308838,\n",
       " -1.52583909034729,\n",
       " -0.4561200737953186,\n",
       " 7.322638511657715,\n",
       " -0.8314166069030762,\n",
       " -3.3025639057159424,\n",
       " -2.712885856628418,\n",
       " 0.9769233465194702,\n",
       " -1.5347144603729248,\n",
       " -0.284805566072464,\n",
       " -1.0043494701385498,\n",
       " -0.764678418636322,\n",
       " -0.3159100413322449,\n",
       " -0.6143831610679626,\n",
       " 0.11373463273048401,\n",
       " -0.6705398559570312,\n",
       " -1.8243874311447144,\n",
       " 0.41112059354782104,\n",
       " -10.707124710083008,\n",
       " 0.9159453511238098,\n",
       " 3.886329174041748,\n",
       " -2.8002495765686035,\n",
       " -3.0599660873413086,\n",
       " -1.574180006980896,\n",
       " 0.9884801506996155,\n",
       " 2.6414527893066406,\n",
       " 2.94423508644104,\n",
       " -1.9287127256393433,\n",
       " -0.6857532858848572,\n",
       " -0.264187216758728,\n",
       " -2.7033729553222656,\n",
       " 1.2633881568908691,\n",
       " 0.7574450969696045,\n",
       " 0.4268869161605835,\n",
       " -0.9466527700424194,\n",
       " 1.815596580505371,\n",
       " -2.515798807144165,\n",
       " 1.3518723249435425,\n",
       " 1.6603569984436035,\n",
       " -1.0787924528121948,\n",
       " 0.10500222444534302,\n",
       " -1.6663401126861572,\n",
       " 3.5836987495422363,\n",
       " -0.5281245708465576,\n",
       " 1.0820069313049316,\n",
       " -1.330543041229248,\n",
       " -0.8613755106925964,\n",
       " 2.8286848068237305,\n",
       " 4.572078704833984,\n",
       " -1.291510820388794,\n",
       " 0.415862113237381,\n",
       " -0.1419278383255005,\n",
       " -1.1795955896377563,\n",
       " -1.099289059638977,\n",
       " -0.18215279281139374,\n",
       " -1.659810185432434,\n",
       " -1.0365159511566162,\n",
       " -0.35418272018432617,\n",
       " -1.464174509048462,\n",
       " 2.9063479900360107,\n",
       " -0.23785515129566193,\n",
       " -1.274023175239563,\n",
       " -3.337174892425537,\n",
       " -0.9409942626953125,\n",
       " 1.6712265014648438,\n",
       " 1.453385829925537,\n",
       " 0.348847359418869,\n",
       " 1.1934480667114258,\n",
       " 0.5837977528572083,\n",
       " -1.0949506759643555,\n",
       " -3.724904775619507,\n",
       " 1.7413870096206665,\n",
       " -1.921993374824524,\n",
       " -0.9005550742149353,\n",
       " -11.23009967803955,\n",
       " 0.21718254685401917,\n",
       " -0.5882622003555298,\n",
       " 3.914538621902466,\n",
       " -0.29108890891075134,\n",
       " -1.996357798576355,\n",
       " 0.5661126971244812,\n",
       " -0.9363956451416016,\n",
       " 1.0446152687072754,\n",
       " 1.810717225074768,\n",
       " 0.3863401710987091,\n",
       " -0.3809255063533783,\n",
       " 1.7625545263290405,\n",
       " 0.10482179373502731,\n",
       " -1.8561065196990967,\n",
       " 0.07446375489234924,\n",
       " 0.7924250960350037,\n",
       " -0.4603215456008911,\n",
       " 0.6054551005363464,\n",
       " 1.3606523275375366,\n",
       " 0.17027847468852997,\n",
       " -2.4949874877929688,\n",
       " 1.6132839918136597,\n",
       " 0.7193419933319092,\n",
       " -0.8713280558586121,\n",
       " 2.911250591278076,\n",
       " 0.6797839403152466,\n",
       " 0.8481569290161133,\n",
       " 2.1654934883117676,\n",
       " -0.5980377793312073,\n",
       " -3.182025194168091,\n",
       " 2.4610893726348877,\n",
       " 0.10007781535387039,\n",
       " -0.39733678102493286,\n",
       " 2.2531371116638184,\n",
       " -0.9277775287628174,\n",
       " 3.8004870414733887,\n",
       " -2.000922203063965,\n",
       " -2.8565030097961426,\n",
       " 2.2659127712249756,\n",
       " -2.1892266273498535,\n",
       " 0.21053874492645264,\n",
       " -2.0735838413238525,\n",
       " -2.459991216659546,\n",
       " -0.5594238638877869,\n",
       " -0.1794014722108841,\n",
       " -1.56687331199646,\n",
       " 1.6982711553573608,\n",
       " -2.5877373218536377,\n",
       " 0.5364797711372375,\n",
       " -0.2648802101612091,\n",
       " -1.24237859249115,\n",
       " -1.5222755670547485,\n",
       " 1.0796738862991333,\n",
       " -1.600118637084961,\n",
       " 1.0171860456466675,\n",
       " -0.22983726859092712,\n",
       " 1.3277519941329956,\n",
       " -2.1083292961120605,\n",
       " -0.24217212200164795,\n",
       " 0.5689897537231445,\n",
       " 0.4828321635723114,\n",
       " -1.3808625936508179,\n",
       " 0.20204737782478333,\n",
       " 0.019071832299232483,\n",
       " -0.44705265760421753,\n",
       " -0.8791978359222412,\n",
       " 1.3354482650756836,\n",
       " -1.194041132926941,\n",
       " 15.135622024536133,\n",
       " 0.10051988065242767,\n",
       " -0.6139874458312988,\n",
       " 1.4134474992752075,\n",
       " 0.08476538956165314,\n",
       " -2.1510720252990723,\n",
       " -0.6287032961845398,\n",
       " 0.9558395147323608,\n",
       " -1.618148922920227,\n",
       " 1.8388396501541138,\n",
       " 0.03532079607248306,\n",
       " -0.47056323289871216,\n",
       " 0.6848927140235901,\n",
       " 2.2927510738372803,\n",
       " 2.0721042156219482,\n",
       " -2.5203864574432373,\n",
       " 0.024630988016724586,\n",
       " -1.5710211992263794,\n",
       " 0.38469186425209045,\n",
       " 2.8793089389801025,\n",
       " -1.5308538675308228,\n",
       " 0.28753185272216797,\n",
       " 0.29928869009017944,\n",
       " 1.4016298055648804,\n",
       " 2.3083581924438477,\n",
       " 2.22764253616333,\n",
       " -1.4978501796722412,\n",
       " 0.3657582700252533,\n",
       " 0.5862913727760315,\n",
       " 2.841122627258301,\n",
       " 2.0829691886901855,\n",
       " -0.37818989157676697,\n",
       " -3.5499014854431152,\n",
       " 6.025965690612793,\n",
       " -0.3126433491706848,\n",
       " -2.3055765628814697,\n",
       " -4.7574262619018555,\n",
       " -2.715925693511963,\n",
       " -3.622274875640869,\n",
       " -0.29377877712249756,\n",
       " -1.3558930158615112,\n",
       " 0.3255125880241394,\n",
       " -1.6397846937179565,\n",
       " 1.7556692361831665,\n",
       " 0.36794865131378174,\n",
       " -0.6413547396659851,\n",
       " 2.955235481262207,\n",
       " 0.27071890234947205,\n",
       " 0.07764268666505814,\n",
       " 1.2866827249526978,\n",
       " -0.8276547789573669,\n",
       " 0.25006595253944397,\n",
       " -1.7611037492752075,\n",
       " 0.050822820514440536,\n",
       " 0.6935229897499084,\n",
       " -0.7894007563591003,\n",
       " 1.3489683866500854,\n",
       " -2.173363208770752,\n",
       " -1.31869375705719,\n",
       " -0.8937972784042358,\n",
       " -1.2306710481643677,\n",
       " 2.768981695175171,\n",
       " 2.0472731590270996,\n",
       " -0.021589243784546852,\n",
       " -2.7037277221679688,\n",
       " 2.383429527282715,\n",
       " -0.380601167678833,\n",
       " -0.12736359238624573,\n",
       " -1.9800580739974976,\n",
       " -0.42985159158706665,\n",
       " 0.8676397800445557,\n",
       " -1.3860453367233276,\n",
       " 0.6512510180473328,\n",
       " -1.7348397970199585,\n",
       " -1.206907033920288,\n",
       " 1.3253690004348755,\n",
       " -0.6297031044960022,\n",
       " 0.11907699704170227,\n",
       " -0.6271479725837708,\n",
       " -1.6616325378417969,\n",
       " -1.8492114543914795,\n",
       " -3.050079107284546,\n",
       " 0.17734967172145844,\n",
       " -0.37254223227500916,\n",
       " -2.3968729972839355,\n",
       " -2.0892794132232666,\n",
       " 2.6240527629852295,\n",
       " -0.3846875727176666,\n",
       " -1.8700579404830933,\n",
       " 2.5339179039001465,\n",
       " -0.6450376510620117,\n",
       " 1.8866446018218994,\n",
       " -1.4619195461273193,\n",
       " 0.3106914162635803,\n",
       " 0.05247258394956589,\n",
       " -0.8233275413513184,\n",
       " 0.4734431505203247,\n",
       " 0.3203730583190918,\n",
       " -1.5448589324951172,\n",
       " -1.4497313499450684,\n",
       " 3.059067964553833,\n",
       " -0.6332964301109314,\n",
       " -2.3744025230407715,\n",
       " -1.7074633836746216,\n",
       " 0.7617109417915344,\n",
       " 1.054004430770874,\n",
       " 0.0192637350410223,\n",
       " -1.1587554216384888,\n",
       " 0.003699880326166749,\n",
       " -0.8149046897888184,\n",
       " -0.4047869145870209,\n",
       " -0.3815193176269531,\n",
       " -0.504332423210144,\n",
       " 2.9574193954467773,\n",
       " 1.122468113899231,\n",
       " 0.3536279797554016,\n",
       " 1.6676161289215088,\n",
       " -1.5022588968276978,\n",
       " -2.10675048828125,\n",
       " -0.5236014723777771,\n",
       " 1.5953693389892578,\n",
       " 0.9570282101631165,\n",
       " -1.0312418937683105,\n",
       " 0.9651187062263489,\n",
       " -1.2719887495040894,\n",
       " -0.3069896399974823,\n",
       " -0.9511288404464722,\n",
       " 0.5088850259780884,\n",
       " 0.2666288912296295,\n",
       " 0.7165306806564331,\n",
       " 0.4197218120098114,\n",
       " 1.054933786392212,\n",
       " -0.18703345954418182,\n",
       " -1.3209130764007568,\n",
       " 0.29417333006858826,\n",
       " -0.5660840272903442,\n",
       " -0.9892009496688843,\n",
       " 0.4184236526489258,\n",
       " 0.8606758713722229,\n",
       " -1.6310914754867554,\n",
       " 1.4739525318145752,\n",
       " 0.29585155844688416,\n",
       " 0.7081459760665894,\n",
       " -2.125288486480713,\n",
       " 1.7983475923538208,\n",
       " 0.0227867029607296,\n",
       " 2.2842214107513428,\n",
       " -3.1992125511169434,\n",
       " 1.8623754978179932,\n",
       " 0.6538096070289612,\n",
       " -0.7455283403396606,\n",
       " -0.2102421671152115,\n",
       " -1.2808754444122314,\n",
       " 0.16097967326641083,\n",
       " 0.22226029634475708,\n",
       " 1.5179424285888672,\n",
       " 2.3583686351776123,\n",
       " 0.878633439540863,\n",
       " -1.4588719606399536,\n",
       " -3.7657651901245117,\n",
       " -0.3221544027328491,\n",
       " 1.2575770616531372,\n",
       " -2.183192014694214,\n",
       " -0.8737265467643738,\n",
       " 0.9818877577781677,\n",
       " -1.9511969089508057,\n",
       " 0.4501831531524658,\n",
       " -3.9550437927246094,\n",
       " -1.8503737449645996,\n",
       " -1.7388269901275635,\n",
       " 2.0335824489593506,\n",
       " 2.1781373023986816,\n",
       " -2.717257499694824,\n",
       " 0.23253560066223145,\n",
       " -0.8190698623657227,\n",
       " -2.7941715717315674,\n",
       " 0.6147472858428955,\n",
       " 0.2281651496887207,\n",
       " -1.4768129587173462,\n",
       " -0.740232527256012,\n",
       " -0.19576974213123322,\n",
       " -2.9785804748535156,\n",
       " -3.7469160556793213,\n",
       " -0.2542869746685028,\n",
       " 1.2480546236038208,\n",
       " -0.8395455479621887,\n",
       " -0.8899708390235901,\n",
       " -1.963930368423462,\n",
       " -0.26546767354011536,\n",
       " -1.0857847929000854,\n",
       " 1.4877614974975586,\n",
       " -0.7822767496109009,\n",
       " 2.712825298309326,\n",
       " -0.15714608132839203,\n",
       " 0.8465547561645508,\n",
       " 0.6595295071601868,\n",
       " 0.5187646746635437,\n",
       " 0.7464048266410828,\n",
       " -0.5000356435775757,\n",
       " 0.14132511615753174,\n",
       " 1.8240203857421875,\n",
       " 1.2071086168289185,\n",
       " -0.03762296214699745,\n",
       " 1.0530474185943604,\n",
       " -1.2956888675689697,\n",
       " 1.4547368288040161,\n",
       " -7.792703628540039,\n",
       " 0.14633888006210327,\n",
       " 0.5030580163002014,\n",
       " 1.7243493795394897,\n",
       " -0.31719645857810974,\n",
       " 0.5975009799003601,\n",
       " -0.6532866954803467,\n",
       " -0.3952617645263672,\n",
       " 1.5851689577102661,\n",
       " -4.096795082092285,\n",
       " -0.5309298038482666,\n",
       " -1.5088837146759033,\n",
       " -0.11045204102993011,\n",
       " 1.5370025634765625,\n",
       " 0.0801377147436142,\n",
       " 0.38099879026412964,\n",
       " -2.4006896018981934,\n",
       " -0.7997023463249207,\n",
       " -0.43267959356307983,\n",
       " -0.35094505548477173,\n",
       " -0.3278687000274658,\n",
       " -4.113267421722412,\n",
       " 0.16428180038928986,\n",
       " -2.046112537384033,\n",
       " -2.9597408771514893,\n",
       " 0.7741478085517883,\n",
       " 2.0941379070281982,\n",
       " -0.632690966129303,\n",
       " 1.326594591140747,\n",
       " 3.4243016242980957,\n",
       " -0.16596314311027527,\n",
       " 1.0275136232376099,\n",
       " 0.014847986400127411,\n",
       " 4.3397417068481445,\n",
       " 0.7461737990379333,\n",
       " 1.6163461208343506,\n",
       " 0.5001110434532166,\n",
       " -3.562192678451538,\n",
       " 0.08447423577308655,\n",
       " -0.0006780992262065411,\n",
       " 1.70869779586792,\n",
       " -0.2547251284122467,\n",
       " 1.1805351972579956,\n",
       " 3.9493119716644287,\n",
       " 0.7940351963043213,\n",
       " -1.2295347452163696,\n",
       " -1.1686807870864868,\n",
       " 5.7123847007751465,\n",
       " -1.3124924898147583,\n",
       " 1.1357827186584473,\n",
       " -0.2595497667789459,\n",
       " -1.8044044971466064,\n",
       " -0.2139095664024353,\n",
       " 0.9444687962532043,\n",
       " 0.30370524525642395,\n",
       " -2.3212718963623047,\n",
       " 47.795867919921875,\n",
       " -1.5730891227722168,\n",
       " 0.12745891511440277,\n",
       " -1.1438014507293701,\n",
       " -2.015691041946411,\n",
       " 1.1993643045425415,\n",
       " -0.8485356569290161,\n",
       " 1.5023356676101685,\n",
       " -1.982560157775879,\n",
       " 0.1368611752986908,\n",
       " 1.3999671936035156,\n",
       " -2.879115104675293,\n",
       " -0.6808373332023621,\n",
       " 0.5863267183303833,\n",
       " -1.2113795280456543,\n",
       " 1.0697786808013916,\n",
       " -0.6592735052108765,\n",
       " 3.350179672241211,\n",
       " 0.4207453727722168,\n",
       " 1.2472376823425293,\n",
       " 0.8083628416061401,\n",
       " 0.5046432018280029,\n",
       " -1.110012412071228,\n",
       " 0.11575483530759811,\n",
       " -2.0670711994171143,\n",
       " -1.594893217086792,\n",
       " -0.8859326839447021,\n",
       " -0.5156073570251465,\n",
       " -1.6210811138153076,\n",
       " 0.8992828130722046,\n",
       " 2.767726421356201,\n",
       " -0.2623887062072754,\n",
       " 1.6170287132263184,\n",
       " -2.645841360092163,\n",
       " -1.2502524852752686,\n",
       " -1.1485446691513062,\n",
       " 1.7749242782592773,\n",
       " -0.014804298989474773,\n",
       " -3.861454963684082,\n",
       " -1.3544447422027588,\n",
       " 1.9060980081558228,\n",
       " 1.6358150243759155,\n",
       " -0.2304047793149948,\n",
       " -1.4370763301849365,\n",
       " 1.8004636764526367,\n",
       " 2.5368828773498535,\n",
       " -0.8499274253845215,\n",
       " 1.1410408020019531,\n",
       " -2.5378506183624268,\n",
       " 2.1446638107299805,\n",
       " -0.2664322555065155,\n",
       " -1.0461794137954712,\n",
       " -2.2083523273468018,\n",
       " 0.2876664102077484,\n",
       " 0.21734337508678436,\n",
       " -2.1569504737854004,\n",
       " -0.20546633005142212,\n",
       " 2.2702016830444336,\n",
       " -1.008622407913208,\n",
       " -1.0174665451049805,\n",
       " -1.2913604974746704,\n",
       " -0.2764332890510559,\n",
       " -1.5352988243103027,\n",
       " -3.5524847507476807,\n",
       " 1.0751479864120483,\n",
       " -1.0255154371261597,\n",
       " 0.7968916893005371,\n",
       " -2.1671273708343506,\n",
       " 3.3607728481292725,\n",
       " 0.611656129360199,\n",
       " 1.2209914922714233,\n",
       " 0.8488622307777405,\n",
       " 0.46596649289131165,\n",
       " 3.8082668781280518,\n",
       " -1.295988917350769,\n",
       " -2.355238199234009,\n",
       " -2.5391576290130615,\n",
       " -2.688493251800537,\n",
       " -0.27860355377197266,\n",
       " -0.6359450221061707,\n",
       " -1.544519305229187,\n",
       " -1.194609522819519,\n",
       " -0.5335791707038879,\n",
       " -3.112841844558716,\n",
       " 0.2124611884355545,\n",
       " -0.17932651937007904,\n",
       " -1.1872966289520264,\n",
       " -0.40500137209892273,\n",
       " 2.7452173233032227,\n",
       " -2.4949424266815186,\n",
       " -0.38275304436683655,\n",
       " 0.042531877756118774,\n",
       " 1.6410226821899414,\n",
       " 0.41462528705596924,\n",
       " -1.684754490852356,\n",
       " 3.785562038421631,\n",
       " -6.624687671661377,\n",
       " 0.45752331614494324,\n",
       " 0.8849892616271973,\n",
       " 4.075039863586426,\n",
       " 2.785327672958374,\n",
       " 0.8590459227561951,\n",
       " -3.2936465740203857,\n",
       " 3.4483885765075684,\n",
       " -2.4897148609161377,\n",
       " 0.8525808453559875,\n",
       " 2.1253795623779297,\n",
       " -0.9834777116775513,\n",
       " 2.0655312538146973,\n",
       " -1.5209914445877075,\n",
       " -0.8800939917564392,\n",
       " 1.621658444404602,\n",
       " 1.5348855257034302,\n",
       " 0.14766180515289307,\n",
       " -0.1450057476758957,\n",
       " 2.1174798011779785,\n",
       " -0.6163764595985413,\n",
       " 1.3962360620498657,\n",
       " -2.3406591415405273,\n",
       " 1.338425874710083,\n",
       " 0.08522722870111465,\n",
       " -4.092738151550293,\n",
       " 0.04686213284730911,\n",
       " 0.2069874256849289,\n",
       " -1.1894652843475342,\n",
       " 4.4746928215026855,\n",
       " 2.0338268280029297,\n",
       " -0.6326923370361328,\n",
       " 1.056938648223877,\n",
       " 1.610156774520874,\n",
       " 1.4714181423187256,\n",
       " 0.823959469795227,\n",
       " -0.7258282899856567,\n",
       " 0.568724513053894,\n",
       " 3.088691234588623,\n",
       " 0.20569869875907898,\n",
       " 0.7541838884353638,\n",
       " -2.8055179119110107,\n",
       " 1.768688440322876,\n",
       " 0.6020561456680298,\n",
       " 0.8082123398780823,\n",
       " -1.0885330438613892,\n",
       " 0.8254373669624329,\n",
       " 0.8996872305870056,\n",
       " 1.1010301113128662,\n",
       " 0.32482191920280457,\n",
       " 3.514883279800415,\n",
       " 0.30102208256721497,\n",
       " 1.2451512813568115,\n",
       " -0.167179137468338,\n",
       " -0.37082549929618835,\n",
       " -1.4093689918518066,\n",
       " 2.025172710418701,\n",
       " 1.3861606121063232,\n",
       " -4.324573040008545,\n",
       " 1.7973637580871582,\n",
       " -3.2466588020324707,\n",
       " 1.9857136011123657,\n",
       " -0.5371959805488586,\n",
       " 0.1704932004213333,\n",
       " 0.30277106165885925,\n",
       " 0.8454219698905945,\n",
       " -1.4630030393600464,\n",
       " 2.0488908290863037,\n",
       " -0.1698533296585083,\n",
       " 0.10282915085554123,\n",
       " -0.0547432005405426,\n",
       " 1.3209645748138428,\n",
       " 0.2913748621940613,\n",
       " 1.9072308540344238,\n",
       " -1.1013051271438599,\n",
       " -3.6861629486083984,\n",
       " -1.1177273988723755,\n",
       " 0.639602541923523,\n",
       " -0.7633310556411743,\n",
       " 2.8077232837677,\n",
       " 2.3444511890411377,\n",
       " 0.781588077545166,\n",
       " 0.17003333568572998,\n",
       " -0.12407950311899185,\n",
       " 1.4632751941680908,\n",
       " -1.6266987323760986,\n",
       " -1.710491418838501,\n",
       " 1.965232253074646,\n",
       " -0.13644830882549286,\n",
       " 0.9940065145492554,\n",
       " -2.231743097305298,\n",
       " -0.859022855758667,\n",
       " -0.5904179811477661,\n",
       " -3.274338483810425,\n",
       " 2.2114219665527344,\n",
       " 0.7493067383766174,\n",
       " -0.7063419222831726,\n",
       " -0.3856961131095886,\n",
       " -0.8919469714164734,\n",
       " 1.2137327194213867,\n",
       " 0.16610920429229736,\n",
       " -0.6229832768440247,\n",
       " 0.10710309445858002,\n",
       " 1.2391207218170166,\n",
       " -1.0419502258300781,\n",
       " -0.7910835146903992,\n",
       " 0.01719876192510128,\n",
       " 0.7545607686042786,\n",
       " -0.5046003460884094,\n",
       " 2.6607954502105713,\n",
       " 0.9254838824272156,\n",
       " 3.2774081230163574,\n",
       " -0.16632455587387085,\n",
       " -1.3392131328582764,\n",
       " 0.9952017068862915,\n",
       " -2.865935802459717,\n",
       " -0.22628609836101532,\n",
       " 1.3204014301300049,\n",
       " -0.7898488640785217,\n",
       " -3.3845975399017334,\n",
       " 0.14807941019535065,\n",
       " 1.2559787034988403,\n",
       " -1.3456913232803345,\n",
       " 0.0202450193464756,\n",
       " 2.6528940200805664,\n",
       " 0.24187007546424866,\n",
       " 7.653060436248779,\n",
       " -14.209147453308105,\n",
       " 2.0392370223999023,\n",
       " -3.148838996887207,\n",
       " -1.0566785335540771,\n",
       " 0.9812880754470825,\n",
       " -0.7936580181121826,\n",
       " 1.431444764137268,\n",
       " -1.278903841972351,\n",
       " -2.5160350799560547,\n",
       " -1.7943003177642822,\n",
       " 2.0455522537231445,\n",
       " 0.8252630233764648,\n",
       " 0.4716474115848541,\n",
       " 1.1463347673416138,\n",
       " -0.3370194435119629,\n",
       " -1.8563077449798584,\n",
       " -4.398609161376953,\n",
       " 51.800533294677734,\n",
       " -0.40313655138015747,\n",
       " -0.8656812906265259,\n",
       " 3.1369056701660156,\n",
       " 0.9989539384841919,\n",
       " -0.12002454698085785,\n",
       " -0.8092743754386902,\n",
       " -2.8961069583892822,\n",
       " 0.8622323870658875,\n",
       " 2.0228168964385986,\n",
       " 0.47976720333099365,\n",
       " -2.9485840797424316,\n",
       " -1.1622323989868164,\n",
       " -7.150012969970703,\n",
       " 3.0739400386810303,\n",
       " -1.770254373550415,\n",
       " 1.3713222742080688,\n",
       " 0.32790783047676086,\n",
       " -1.601052165031433,\n",
       " 1.8703529834747314,\n",
       " -0.07719691842794418,\n",
       " 1.3905256986618042,\n",
       " -0.8625625371932983,\n",
       " -0.7946884036064148,\n",
       " -1.6292600631713867,\n",
       " -0.6462960839271545,\n",
       " -0.1167377457022667,\n",
       " -1.3776670694351196,\n",
       " -1.4352946281433105,\n",
       " 2.472794532775879,\n",
       " -1.0536736249923706,\n",
       " -0.7072540521621704,\n",
       " 0.5257237553596497,\n",
       " 1.1541390419006348,\n",
       " -1.1103860139846802,\n",
       " -3.5564932823181152,\n",
       " 0.5288441181182861,\n",
       " 0.7522191405296326,\n",
       " 1.4722645282745361,\n",
       " 3.00630784034729,\n",
       " 0.6294902563095093,\n",
       " 0.05430478975176811,\n",
       " -0.7287338376045227,\n",
       " -0.14006634056568146,\n",
       " 2.629260778427124,\n",
       " -0.747460126876831,\n",
       " 0.18083257973194122,\n",
       " 1.6379880905151367,\n",
       " 2.6517932415008545,\n",
       " -0.4469020664691925,\n",
       " -0.9548997282981873,\n",
       " 4.134324550628662,\n",
       " -4.0751237869262695,\n",
       " 1.5055420398712158,\n",
       " 1.3620916604995728,\n",
       " 0.4800616204738617,\n",
       " -4.413755893707275,\n",
       " -1.8454385995864868,\n",
       " 2.007643222808838,\n",
       " 0.4492914080619812,\n",
       " 0.8203243017196655,\n",
       " -2.598890542984009,\n",
       " 1.662205696105957,\n",
       " 0.5298327207565308,\n",
       " -1.5611637830734253,\n",
       " -0.34107398986816406,\n",
       " -3.5789096355438232,\n",
       " -0.9979186654090881,\n",
       " -0.21771204471588135,\n",
       " 0.3774392604827881,\n",
       " 0.4198993146419525,\n",
       " 1.6313796043395996,\n",
       " 2.3880059719085693,\n",
       " 2.8102893829345703,\n",
       " -0.36848220229148865,\n",
       " -4.331150531768799,\n",
       " -2.9519336223602295,\n",
       " 3.7096946239471436,\n",
       " -1.855385422706604,\n",
       " 1.1722506284713745,\n",
       " 0.9416868686676025,\n",
       " 3.8145992755889893,\n",
       " -2.5044963359832764,\n",
       " 1.6888560056686401,\n",
       " -1.1626346111297607,\n",
       " -21.8437557220459,\n",
       " -2.3270339965820312,\n",
       " -2.696885585784912,\n",
       " -0.807750940322876,\n",
       " 1.1971747875213623,\n",
       " 0.16660712659358978,\n",
       " -1.7556610107421875,\n",
       " 3.6623568534851074,\n",
       " -2.0506374835968018,\n",
       " -0.5636963248252869,\n",
       " 3.0629820823669434,\n",
       " 2.265854835510254,\n",
       " -2.291149854660034,\n",
       " 1.4709930419921875,\n",
       " 1.5252491235733032,\n",
       " 1.027443289756775,\n",
       " 1.372667908668518,\n",
       " -0.5830960869789124,\n",
       " -1.183172583580017,\n",
       " 1.7244623899459839,\n",
       " 0.321860671043396,\n",
       " 0.9778028130531311,\n",
       " 2.7851974964141846,\n",
       " -1.8767403364181519,\n",
       " 1.2353546619415283,\n",
       " 0.4542924165725708,\n",
       " -1.6322200298309326,\n",
       " 0.15024536848068237,\n",
       " -1.2209078073501587,\n",
       " -1.0020097494125366,\n",
       " 1.7305920124053955,\n",
       " 0.9461353421211243,\n",
       " 0.6588192582130432,\n",
       " -1.4970744848251343,\n",
       " -2.9275944232940674,\n",
       " -0.162628173828125,\n",
       " 0.9054079055786133,\n",
       " -0.7969748377799988,\n",
       " -4.910812854766846,\n",
       " 1.5526182651519775,\n",
       " 1.9219187498092651,\n",
       " -1.4908515214920044,\n",
       " -0.7216171026229858,\n",
       " -2.207227945327759,\n",
       " -2.97823166847229,\n",
       " -1.4304348230361938,\n",
       " 2.242788553237915,\n",
       " 0.1462736576795578,\n",
       " 2.100325107574463,\n",
       " 5.051887035369873,\n",
       " 4.478470802307129,\n",
       " -3.6486656665802,\n",
       " -5.701869964599609,\n",
       " 0.5266544222831726,\n",
       " -0.7691246867179871,\n",
       " -0.5561100244522095,\n",
       " 1.193676233291626,\n",
       " 2.688145399093628,\n",
       " -80.54983520507812,\n",
       " 0.5170763731002808,\n",
       " 0.7200384736061096,\n",
       " 2.053622007369995,\n",
       " 0.395743727684021,\n",
       " -3.6962738037109375,\n",
       " 0.12095338106155396,\n",
       " -1.4516462087631226,\n",
       " -0.853097677230835,\n",
       " -1.1413187980651855,\n",
       " 2.3962278366088867,\n",
       " 2.02101993560791,\n",
       " 1.996530294418335,\n",
       " 2.7442901134490967,\n",
       " -5.205966949462891,\n",
       " 1.2348384857177734,\n",
       " 0.3370801508426666,\n",
       " 2.042391300201416,\n",
       " -3.5963425636291504,\n",
       " -1.2993435859680176,\n",
       " -1.6453689336776733,\n",
       " 1.076172947883606,\n",
       " -0.5767203569412231,\n",
       " 0.13384191691875458,\n",
       " ...]"
      ]
     },
     "execution_count": 17,
     "metadata": {},
     "output_type": "execute_result"
    }
   ],
   "source": [
    "embeddings.embed_query(\"Who is subodh thore\")"
   ]
  },
  {
   "cell_type": "code",
   "execution_count": 20,
   "metadata": {},
   "outputs": [],
   "source": [
    "## You can use other ollama embedding models\n"
   ]
  },
  {
   "cell_type": "code",
   "execution_count": null,
   "metadata": {},
   "outputs": [],
   "source": []
  },
  {
   "cell_type": "markdown",
   "metadata": {},
   "source": [
    "### Huggingface Embedding models\n"
   ]
  },
  {
   "cell_type": "code",
   "execution_count": 29,
   "metadata": {},
   "outputs": [
    {
     "data": {
      "text/plain": [
       "True"
      ]
     },
     "execution_count": 29,
     "metadata": {},
     "output_type": "execute_result"
    }
   ],
   "source": [
    "from dotenv import load_dotenv\n",
    "import os\n",
    "load_dotenv()"
   ]
  },
  {
   "cell_type": "code",
   "execution_count": 31,
   "metadata": {},
   "outputs": [],
   "source": [
    "os.environ[\"HUGGING_FACE_TOKEN\"] = os.getenv(\"HUGGING_FACE_TOKEN\")"
   ]
  },
  {
   "cell_type": "code",
   "execution_count": 36,
   "metadata": {},
   "outputs": [
    {
     "ename": "OSError",
     "evalue": "[WinError 126] The specified module could not be found. Error loading \"c:\\Users\\Admin\\Desktop\\GenAI Krishna naik\\Langchain Basics\\.venv\\Lib\\site-packages\\torch\\lib\\fbgemm.dll\" or one of its dependencies.",
     "output_type": "error",
     "traceback": [
      "\u001b[1;31m---------------------------------------------------------------------------\u001b[0m",
      "\u001b[1;31mOSError\u001b[0m                                   Traceback (most recent call last)",
      "Cell \u001b[1;32mIn[36], line 3\u001b[0m\n\u001b[0;32m      1\u001b[0m \u001b[38;5;28;01mfrom\u001b[39;00m \u001b[38;5;21;01mlangchain_huggingface\u001b[39;00m \u001b[38;5;28;01mimport\u001b[39;00m HuggingFaceEmbeddings\n\u001b[1;32m----> 3\u001b[0m embeddings \u001b[38;5;241m=\u001b[39m \u001b[43mHuggingFaceEmbeddings\u001b[49m\u001b[43m(\u001b[49m\u001b[43mmodel_name\u001b[49m\u001b[38;5;241;43m=\u001b[39;49m\u001b[38;5;124;43m\"\u001b[39;49m\u001b[38;5;124;43mall-MiniLM-L6-v2\u001b[39;49m\u001b[38;5;124;43m\"\u001b[39;49m\u001b[43m)\u001b[49m\n",
      "File \u001b[1;32mc:\\Users\\Admin\\Desktop\\GenAI Krishna naik\\Langchain Basics\\.venv\\Lib\\site-packages\\langchain_huggingface\\embeddings\\huggingface.py:53\u001b[0m, in \u001b[0;36mHuggingFaceEmbeddings.__init__\u001b[1;34m(self, **kwargs)\u001b[0m\n\u001b[0;32m     51\u001b[0m \u001b[38;5;28msuper\u001b[39m()\u001b[38;5;241m.\u001b[39m\u001b[38;5;21m__init__\u001b[39m(\u001b[38;5;241m*\u001b[39m\u001b[38;5;241m*\u001b[39mkwargs)\n\u001b[0;32m     52\u001b[0m \u001b[38;5;28;01mtry\u001b[39;00m:\n\u001b[1;32m---> 53\u001b[0m     \u001b[38;5;28;01mimport\u001b[39;00m \u001b[38;5;21;01msentence_transformers\u001b[39;00m  \u001b[38;5;66;03m# type: ignore[import]\u001b[39;00m\n\u001b[0;32m     55\u001b[0m \u001b[38;5;28;01mexcept\u001b[39;00m \u001b[38;5;167;01mImportError\u001b[39;00m \u001b[38;5;28;01mas\u001b[39;00m exc:\n\u001b[0;32m     56\u001b[0m     \u001b[38;5;28;01mraise\u001b[39;00m \u001b[38;5;167;01mImportError\u001b[39;00m(\n\u001b[0;32m     57\u001b[0m         \u001b[38;5;124m\"\u001b[39m\u001b[38;5;124mCould not import sentence_transformers python package. \u001b[39m\u001b[38;5;124m\"\u001b[39m\n\u001b[0;32m     58\u001b[0m         \u001b[38;5;124m\"\u001b[39m\u001b[38;5;124mPlease install it with `pip install sentence-transformers`.\u001b[39m\u001b[38;5;124m\"\u001b[39m\n\u001b[0;32m     59\u001b[0m     ) \u001b[38;5;28;01mfrom\u001b[39;00m \u001b[38;5;21;01mexc\u001b[39;00m\n",
      "File \u001b[1;32mc:\\Users\\Admin\\Desktop\\GenAI Krishna naik\\Langchain Basics\\.venv\\Lib\\site-packages\\sentence_transformers\\__init__.py:7\u001b[0m\n\u001b[0;32m      4\u001b[0m \u001b[38;5;28;01mimport\u001b[39;00m \u001b[38;5;21;01mimportlib\u001b[39;00m\n\u001b[0;32m      5\u001b[0m \u001b[38;5;28;01mimport\u001b[39;00m \u001b[38;5;21;01mos\u001b[39;00m\n\u001b[1;32m----> 7\u001b[0m \u001b[38;5;28;01mfrom\u001b[39;00m \u001b[38;5;21;01msentence_transformers\u001b[39;00m\u001b[38;5;21;01m.\u001b[39;00m\u001b[38;5;21;01mcross_encoder\u001b[39;00m\u001b[38;5;21;01m.\u001b[39;00m\u001b[38;5;21;01mCrossEncoder\u001b[39;00m \u001b[38;5;28;01mimport\u001b[39;00m CrossEncoder\n\u001b[0;32m      8\u001b[0m \u001b[38;5;28;01mfrom\u001b[39;00m \u001b[38;5;21;01msentence_transformers\u001b[39;00m\u001b[38;5;21;01m.\u001b[39;00m\u001b[38;5;21;01mdatasets\u001b[39;00m \u001b[38;5;28;01mimport\u001b[39;00m ParallelSentencesDataset, SentencesDataset\n\u001b[0;32m      9\u001b[0m \u001b[38;5;28;01mfrom\u001b[39;00m \u001b[38;5;21;01msentence_transformers\u001b[39;00m\u001b[38;5;21;01m.\u001b[39;00m\u001b[38;5;21;01mLoggingHandler\u001b[39;00m \u001b[38;5;28;01mimport\u001b[39;00m LoggingHandler\n",
      "File \u001b[1;32mc:\\Users\\Admin\\Desktop\\GenAI Krishna naik\\Langchain Basics\\.venv\\Lib\\site-packages\\sentence_transformers\\cross_encoder\\__init__.py:1\u001b[0m\n\u001b[1;32m----> 1\u001b[0m \u001b[38;5;28;01mfrom\u001b[39;00m \u001b[38;5;21;01m.\u001b[39;00m\u001b[38;5;21;01mCrossEncoder\u001b[39;00m \u001b[38;5;28;01mimport\u001b[39;00m CrossEncoder\n\u001b[0;32m      3\u001b[0m __all__ \u001b[38;5;241m=\u001b[39m [\u001b[38;5;124m\"\u001b[39m\u001b[38;5;124mCrossEncoder\u001b[39m\u001b[38;5;124m\"\u001b[39m]\n",
      "File \u001b[1;32mc:\\Users\\Admin\\Desktop\\GenAI Krishna naik\\Langchain Basics\\.venv\\Lib\\site-packages\\sentence_transformers\\cross_encoder\\CrossEncoder.py:7\u001b[0m\n\u001b[0;32m      4\u001b[0m \u001b[38;5;28;01mfrom\u001b[39;00m \u001b[38;5;21;01mtyping\u001b[39;00m \u001b[38;5;28;01mimport\u001b[39;00m Callable, Dict, List, Literal, Optional, Tuple, Type, Union\n\u001b[0;32m      6\u001b[0m \u001b[38;5;28;01mimport\u001b[39;00m \u001b[38;5;21;01mnumpy\u001b[39;00m \u001b[38;5;28;01mas\u001b[39;00m \u001b[38;5;21;01mnp\u001b[39;00m\n\u001b[1;32m----> 7\u001b[0m \u001b[38;5;28;01mimport\u001b[39;00m \u001b[38;5;21;01mtorch\u001b[39;00m\n\u001b[0;32m      8\u001b[0m \u001b[38;5;28;01mfrom\u001b[39;00m \u001b[38;5;21;01mtorch\u001b[39;00m \u001b[38;5;28;01mimport\u001b[39;00m Tensor, nn\n\u001b[0;32m      9\u001b[0m \u001b[38;5;28;01mfrom\u001b[39;00m \u001b[38;5;21;01mtorch\u001b[39;00m\u001b[38;5;21;01m.\u001b[39;00m\u001b[38;5;21;01moptim\u001b[39;00m \u001b[38;5;28;01mimport\u001b[39;00m Optimizer\n",
      "File \u001b[1;32mc:\\Users\\Admin\\Desktop\\GenAI Krishna naik\\Langchain Basics\\.venv\\Lib\\site-packages\\torch\\__init__.py:148\u001b[0m\n\u001b[0;32m    146\u001b[0m                 err \u001b[38;5;241m=\u001b[39m ctypes\u001b[38;5;241m.\u001b[39mWinError(ctypes\u001b[38;5;241m.\u001b[39mget_last_error())\n\u001b[0;32m    147\u001b[0m                 err\u001b[38;5;241m.\u001b[39mstrerror \u001b[38;5;241m+\u001b[39m\u001b[38;5;241m=\u001b[39m \u001b[38;5;124mf\u001b[39m\u001b[38;5;124m'\u001b[39m\u001b[38;5;124m Error loading \u001b[39m\u001b[38;5;124m\"\u001b[39m\u001b[38;5;132;01m{\u001b[39;00mdll\u001b[38;5;132;01m}\u001b[39;00m\u001b[38;5;124m\"\u001b[39m\u001b[38;5;124m or one of its dependencies.\u001b[39m\u001b[38;5;124m'\u001b[39m\n\u001b[1;32m--> 148\u001b[0m                 \u001b[38;5;28;01mraise\u001b[39;00m err\n\u001b[0;32m    150\u001b[0m     kernel32\u001b[38;5;241m.\u001b[39mSetErrorMode(prev_error_mode)\n\u001b[0;32m    153\u001b[0m \u001b[38;5;28;01mdef\u001b[39;00m \u001b[38;5;21m_preload_cuda_deps\u001b[39m(lib_folder, lib_name):\n",
      "\u001b[1;31mOSError\u001b[0m: [WinError 126] The specified module could not be found. Error loading \"c:\\Users\\Admin\\Desktop\\GenAI Krishna naik\\Langchain Basics\\.venv\\Lib\\site-packages\\torch\\lib\\fbgemm.dll\" or one of its dependencies."
     ]
    }
   ],
   "source": [
    "from langchain_huggingface import HuggingFaceEmbeddings\n",
    "\n",
    "embeddings = HuggingFaceEmbeddings(model_name=\"all-MiniLM-L6-v2\")"
   ]
  },
  {
   "cell_type": "code",
   "execution_count": null,
   "metadata": {},
   "outputs": [],
   "source": []
  },
  {
   "cell_type": "markdown",
   "metadata": {},
   "source": [
    "## Vector Stores\n"
   ]
  },
  {
   "cell_type": "markdown",
   "metadata": {},
   "source": [
    "## FAISS -\n",
    "facebook AI similarity search. "
   ]
  },
  {
   "cell_type": "code",
   "execution_count": 12,
   "metadata": {},
   "outputs": [],
   "source": [
    "from langchain_community.document_loaders import TextLoader\n",
    "from langchain_text_splitters import RecursiveCharacterTextSplitter\n",
    "from langchain_community.embeddings import OllamaEmbeddings\n",
    "from langchain_community.vectorstores import FAISS\n",
    "\n",
    "\n",
    "# load documents text\n",
    "loader = TextLoader('peech.txt')\n",
    "speech_data=loader.load()\n",
    "\n",
    "# split data using Recursive : chunking\n",
    "\n",
    "spliter = RecursiveCharacterTextSplitter(chunk_size= 800, chunk_overlap = 45)\n",
    "splitted_data=spliter.split_documents(speech_data)\n",
    "\n",
    "# create emebeddings OLLAMA\n",
    "\n",
    "embeddings=OllamaEmbeddings(model='gemma2:2b')\n",
    "\n",
    "#embeddingDoc=embeddings.embed_documents(splitted_data)\n",
    "\n",
    "\n"
   ]
  },
  {
   "cell_type": "code",
   "execution_count": 14,
   "metadata": {},
   "outputs": [],
   "source": [
    "vDB = FAISS.from_documents(splitted_data, embeddings)"
   ]
  },
  {
   "cell_type": "code",
   "execution_count": 23,
   "metadata": {},
   "outputs": [],
   "source": [
    "query = \"give me information about Data preprocesings\"\n",
    "search_results=vDB.similarity_search(query)"
   ]
  },
  {
   "cell_type": "code",
   "execution_count": 24,
   "metadata": {},
   "outputs": [
    {
     "data": {
      "text/plain": [
       "'5. Integrating Retrieval and Generation\\n**a. Pipeline Design: Create a pipeline where the retrieval and generation models work together. Typically, this involves first using the retrieval model to fetch relevant documents and then passing these documents to the generation model.\\n\\n**b. Contextualization: Ensure that the retrieved documents are appropriately fed into the generative model. This may involve combining the documents into a coherent context or selecting the most relevant sections.\\n\\n**c. Post-Processing: After generating the response, apply any necessary post-processing to refine the output. This could involve formatting, filtering, or additional refinement to improve the quality.'"
      ]
     },
     "execution_count": 24,
     "metadata": {},
     "output_type": "execute_result"
    }
   ],
   "source": [
    "search_results[0].page_content"
   ]
  },
  {
   "cell_type": "code",
   "execution_count": null,
   "metadata": {},
   "outputs": [],
   "source": []
  },
  {
   "cell_type": "markdown",
   "metadata": {},
   "source": [
    " ## Retriver method to query FAISS"
   ]
  },
  {
   "cell_type": "code",
   "execution_count": 26,
   "metadata": {},
   "outputs": [],
   "source": [
    "retriver=vDB.as_retriever()\n"
   ]
  },
  {
   "cell_type": "code",
   "execution_count": 27,
   "metadata": {},
   "outputs": [
    {
     "data": {
      "text/plain": [
       "[Document(metadata={'source': 'peech.txt'}, page_content='5. Integrating Retrieval and Generation\\n**a. Pipeline Design: Create a pipeline where the retrieval and generation models work together. Typically, this involves first using the retrieval model to fetch relevant documents and then passing these documents to the generation model.\\n\\n**b. Contextualization: Ensure that the retrieved documents are appropriately fed into the generative model. This may involve combining the documents into a coherent context or selecting the most relevant sections.\\n\\n**c. Post-Processing: After generating the response, apply any necessary post-processing to refine the output. This could involve formatting, filtering, or additional refinement to improve the quality.'),\n",
       " Document(metadata={'source': 'peech.txt'}, page_content='6. Training the RAG System\\n**a. End-to-End Training: If possible, train the entire RAG system end-to-end. This means optimizing both the retrieval and generation components simultaneously to improve overall performance.\\n\\n**b. Training Data: Use a dataset that includes queries, relevant documents, and desired responses. This data is crucial for learning how to effectively combine retrieval and generation.\\n\\n**c. Hyperparameter Tuning: Adjust hyperparameters for both the retrieval and generation models to achieve the best performance. This may involve experimenting with different settings and configurations.'),\n",
       " Document(metadata={'source': 'peech.txt'}, page_content='Retrieval-Augmented Generation (RAG) is a sophisticated technique in natural language processing that combines the strengths of retrieval-based and generation-based models. Hereâ€™s a step-by-step guide to understanding how RAG systems are developed:\\n\\n1. Understanding the Basics\\na. Retrieval-Based Models: These models, such as BM25 or Dense Retriever models, are designed to fetch relevant documents or passages from a large corpus based on a given query. They work well for identifying relevant information but do not generate new content.\\n\\nb. Generation-Based Models: These models, like GPT or BERT, can generate human-like text based on the input they receive. They excel at creating coherent responses but may lack the ability to fetch specific information from a large dataset.'),\n",
       " Document(metadata={'source': 'peech.txt'}, page_content='7. Evaluation and Testing\\n**a. Benchmarking: Evaluate the RAG system using standard benchmarks and metrics. Common metrics include BLEU scores for generation quality, and recall or precision for retrieval effectiveness.\\n\\n**b. User Testing: Conduct user testing to ensure that the RAG system meets practical needs. Gather feedback on the relevance and coherence of the responses.\\n\\n**c. Iterative Improvement: Based on evaluation results, iteratively improve the system. This may involve fine-tuning models, adjusting retrieval strategies, or refining the integration process.\\n\\n8. Deployment\\n**a. Scalability: Ensure that the RAG system can handle the expected load in a real-world setting. This involves optimizing performance and scaling infrastructure.')]"
      ]
     },
     "execution_count": 27,
     "metadata": {},
     "output_type": "execute_result"
    }
   ],
   "source": [
    "retriver.invoke(query)"
   ]
  },
  {
   "cell_type": "markdown",
   "metadata": {},
   "source": [
    "## Find similar content with the L2 distance, Lower is better"
   ]
  },
  {
   "cell_type": "code",
   "execution_count": 30,
   "metadata": {},
   "outputs": [],
   "source": [
    "docs_with_score = vDB.similarity_search_with_score(query)"
   ]
  },
  {
   "cell_type": "code",
   "execution_count": 31,
   "metadata": {},
   "outputs": [
    {
     "data": {
      "text/plain": [
       "[(Document(metadata={'source': 'peech.txt'}, page_content='5. Integrating Retrieval and Generation\\n**a. Pipeline Design: Create a pipeline where the retrieval and generation models work together. Typically, this involves first using the retrieval model to fetch relevant documents and then passing these documents to the generation model.\\n\\n**b. Contextualization: Ensure that the retrieved documents are appropriately fed into the generative model. This may involve combining the documents into a coherent context or selecting the most relevant sections.\\n\\n**c. Post-Processing: After generating the response, apply any necessary post-processing to refine the output. This could involve formatting, filtering, or additional refinement to improve the quality.'),\n",
       "  12755.404),\n",
       " (Document(metadata={'source': 'peech.txt'}, page_content='6. Training the RAG System\\n**a. End-to-End Training: If possible, train the entire RAG system end-to-end. This means optimizing both the retrieval and generation components simultaneously to improve overall performance.\\n\\n**b. Training Data: Use a dataset that includes queries, relevant documents, and desired responses. This data is crucial for learning how to effectively combine retrieval and generation.\\n\\n**c. Hyperparameter Tuning: Adjust hyperparameters for both the retrieval and generation models to achieve the best performance. This may involve experimenting with different settings and configurations.'),\n",
       "  13087.447),\n",
       " (Document(metadata={'source': 'peech.txt'}, page_content='Retrieval-Augmented Generation (RAG) is a sophisticated technique in natural language processing that combines the strengths of retrieval-based and generation-based models. Hereâ€™s a step-by-step guide to understanding how RAG systems are developed:\\n\\n1. Understanding the Basics\\na. Retrieval-Based Models: These models, such as BM25 or Dense Retriever models, are designed to fetch relevant documents or passages from a large corpus based on a given query. They work well for identifying relevant information but do not generate new content.\\n\\nb. Generation-Based Models: These models, like GPT or BERT, can generate human-like text based on the input they receive. They excel at creating coherent responses but may lack the ability to fetch specific information from a large dataset.'),\n",
       "  13819.139),\n",
       " (Document(metadata={'source': 'peech.txt'}, page_content='7. Evaluation and Testing\\n**a. Benchmarking: Evaluate the RAG system using standard benchmarks and metrics. Common metrics include BLEU scores for generation quality, and recall or precision for retrieval effectiveness.\\n\\n**b. User Testing: Conduct user testing to ensure that the RAG system meets practical needs. Gather feedback on the relevance and coherence of the responses.\\n\\n**c. Iterative Improvement: Based on evaluation results, iteratively improve the system. This may involve fine-tuning models, adjusting retrieval strategies, or refining the integration process.\\n\\n8. Deployment\\n**a. Scalability: Ensure that the RAG system can handle the expected load in a real-world setting. This involves optimizing performance and scaling infrastructure.'),\n",
       "  14031.923)]"
      ]
     },
     "execution_count": 31,
     "metadata": {},
     "output_type": "execute_result"
    }
   ],
   "source": [
    "docs_with_score"
   ]
  },
  {
   "cell_type": "code",
   "execution_count": 32,
   "metadata": {},
   "outputs": [],
   "source": [
    "embeddingVector=embeddings.embed_query(query)\n"
   ]
  },
  {
   "cell_type": "code",
   "execution_count": 33,
   "metadata": {},
   "outputs": [
    {
     "data": {
      "text/plain": [
       "[Document(metadata={'source': 'peech.txt'}, page_content='5. Integrating Retrieval and Generation\\n**a. Pipeline Design: Create a pipeline where the retrieval and generation models work together. Typically, this involves first using the retrieval model to fetch relevant documents and then passing these documents to the generation model.\\n\\n**b. Contextualization: Ensure that the retrieved documents are appropriately fed into the generative model. This may involve combining the documents into a coherent context or selecting the most relevant sections.\\n\\n**c. Post-Processing: After generating the response, apply any necessary post-processing to refine the output. This could involve formatting, filtering, or additional refinement to improve the quality.'),\n",
       " Document(metadata={'source': 'peech.txt'}, page_content='6. Training the RAG System\\n**a. End-to-End Training: If possible, train the entire RAG system end-to-end. This means optimizing both the retrieval and generation components simultaneously to improve overall performance.\\n\\n**b. Training Data: Use a dataset that includes queries, relevant documents, and desired responses. This data is crucial for learning how to effectively combine retrieval and generation.\\n\\n**c. Hyperparameter Tuning: Adjust hyperparameters for both the retrieval and generation models to achieve the best performance. This may involve experimenting with different settings and configurations.'),\n",
       " Document(metadata={'source': 'peech.txt'}, page_content='Retrieval-Augmented Generation (RAG) is a sophisticated technique in natural language processing that combines the strengths of retrieval-based and generation-based models. Hereâ€™s a step-by-step guide to understanding how RAG systems are developed:\\n\\n1. Understanding the Basics\\na. Retrieval-Based Models: These models, such as BM25 or Dense Retriever models, are designed to fetch relevant documents or passages from a large corpus based on a given query. They work well for identifying relevant information but do not generate new content.\\n\\nb. Generation-Based Models: These models, like GPT or BERT, can generate human-like text based on the input they receive. They excel at creating coherent responses but may lack the ability to fetch specific information from a large dataset.'),\n",
       " Document(metadata={'source': 'peech.txt'}, page_content='7. Evaluation and Testing\\n**a. Benchmarking: Evaluate the RAG system using standard benchmarks and metrics. Common metrics include BLEU scores for generation quality, and recall or precision for retrieval effectiveness.\\n\\n**b. User Testing: Conduct user testing to ensure that the RAG system meets practical needs. Gather feedback on the relevance and coherence of the responses.\\n\\n**c. Iterative Improvement: Based on evaluation results, iteratively improve the system. This may involve fine-tuning models, adjusting retrieval strategies, or refining the integration process.\\n\\n8. Deployment\\n**a. Scalability: Ensure that the RAG system can handle the expected load in a real-world setting. This involves optimizing performance and scaling infrastructure.')]"
      ]
     },
     "execution_count": 33,
     "metadata": {},
     "output_type": "execute_result"
    }
   ],
   "source": [
    "vDB.similarity_search_by_vector(embeddingVector)"
   ]
  },
  {
   "cell_type": "code",
   "execution_count": null,
   "metadata": {},
   "outputs": [],
   "source": []
  },
  {
   "cell_type": "markdown",
   "metadata": {},
   "source": [
    "### Save and load the vector DB in local"
   ]
  },
  {
   "cell_type": "code",
   "execution_count": 35,
   "metadata": {},
   "outputs": [],
   "source": [
    "vDB.save_local(\"faiss_index\") # folder faiss_index"
   ]
  },
  {
   "cell_type": "code",
   "execution_count": 39,
   "metadata": {},
   "outputs": [],
   "source": [
    "newDB = FAISS.load_local('faiss_index', embeddings,allow_dangerous_deserialization=True)"
   ]
  },
  {
   "cell_type": "code",
   "execution_count": 40,
   "metadata": {},
   "outputs": [
    {
     "data": {
      "text/plain": [
       "[Document(metadata={'source': 'peech.txt'}, page_content='5. Integrating Retrieval and Generation\\n**a. Pipeline Design: Create a pipeline where the retrieval and generation models work together. Typically, this involves first using the retrieval model to fetch relevant documents and then passing these documents to the generation model.\\n\\n**b. Contextualization: Ensure that the retrieved documents are appropriately fed into the generative model. This may involve combining the documents into a coherent context or selecting the most relevant sections.\\n\\n**c. Post-Processing: After generating the response, apply any necessary post-processing to refine the output. This could involve formatting, filtering, or additional refinement to improve the quality.'),\n",
       " Document(metadata={'source': 'peech.txt'}, page_content='6. Training the RAG System\\n**a. End-to-End Training: If possible, train the entire RAG system end-to-end. This means optimizing both the retrieval and generation components simultaneously to improve overall performance.\\n\\n**b. Training Data: Use a dataset that includes queries, relevant documents, and desired responses. This data is crucial for learning how to effectively combine retrieval and generation.\\n\\n**c. Hyperparameter Tuning: Adjust hyperparameters for both the retrieval and generation models to achieve the best performance. This may involve experimenting with different settings and configurations.'),\n",
       " Document(metadata={'source': 'peech.txt'}, page_content='Retrieval-Augmented Generation (RAG) is a sophisticated technique in natural language processing that combines the strengths of retrieval-based and generation-based models. Hereâ€™s a step-by-step guide to understanding how RAG systems are developed:\\n\\n1. Understanding the Basics\\na. Retrieval-Based Models: These models, such as BM25 or Dense Retriever models, are designed to fetch relevant documents or passages from a large corpus based on a given query. They work well for identifying relevant information but do not generate new content.\\n\\nb. Generation-Based Models: These models, like GPT or BERT, can generate human-like text based on the input they receive. They excel at creating coherent responses but may lack the ability to fetch specific information from a large dataset.'),\n",
       " Document(metadata={'source': 'peech.txt'}, page_content='7. Evaluation and Testing\\n**a. Benchmarking: Evaluate the RAG system using standard benchmarks and metrics. Common metrics include BLEU scores for generation quality, and recall or precision for retrieval effectiveness.\\n\\n**b. User Testing: Conduct user testing to ensure that the RAG system meets practical needs. Gather feedback on the relevance and coherence of the responses.\\n\\n**c. Iterative Improvement: Based on evaluation results, iteratively improve the system. This may involve fine-tuning models, adjusting retrieval strategies, or refining the integration process.\\n\\n8. Deployment\\n**a. Scalability: Ensure that the RAG system can handle the expected load in a real-world setting. This involves optimizing performance and scaling infrastructure.')]"
      ]
     },
     "execution_count": 40,
     "metadata": {},
     "output_type": "execute_result"
    }
   ],
   "source": [
    "newDB.similarity_search(query)"
   ]
  },
  {
   "cell_type": "code",
   "execution_count": null,
   "metadata": {},
   "outputs": [],
   "source": []
  },
  {
   "cell_type": "code",
   "execution_count": null,
   "metadata": {},
   "outputs": [],
   "source": []
  },
  {
   "cell_type": "markdown",
   "metadata": {},
   "source": [
    "## Chroma"
   ]
  },
  {
   "cell_type": "code",
   "execution_count": 1,
   "metadata": {},
   "outputs": [],
   "source": [
    "\n",
    "from langchain_chroma import Chroma\n",
    "from langchain_community.document_loaders import TextLoader\n",
    "from langchain_text_splitters import RecursiveCharacterTextSplitter\n",
    "from langchain_community.embeddings import OllamaEmbeddings\n",
    "\n",
    "# load documents text\n",
    "loader = TextLoader('peech.txt')\n",
    "speech_data=loader.load()\n",
    "\n",
    "# split data using Recursive : chunking\n",
    "spliter = RecursiveCharacterTextSplitter(chunk_size= 600, chunk_overlap = 45)\n",
    "splitted_data=spliter.split_documents(speech_data)\n",
    "\n",
    "# create emebeddings OLLAMA\n",
    "embeddings=OllamaEmbeddings(model='gemma2:2b')\n"
   ]
  },
  {
   "cell_type": "code",
   "execution_count": 2,
   "metadata": {},
   "outputs": [],
   "source": [
    "# store\n",
    "\n",
    "ChromaDBStore=Chroma.from_documents(splitted_data,embeddings,persist_directory='./chromaDb')"
   ]
  },
  {
   "cell_type": "code",
   "execution_count": 3,
   "metadata": {},
   "outputs": [],
   "source": [
    "# load\n",
    "\n",
    "chDB=Chroma(persist_directory='./chromaDb',embedding_function=embeddings)"
   ]
  },
  {
   "cell_type": "code",
   "execution_count": 4,
   "metadata": {},
   "outputs": [
    {
     "data": {
      "text/plain": [
       "[Document(metadata={'source': 'peech.txt'}, page_content='b. Generation-Based Models: These models, like GPT or BERT, can generate human-like text based on the input they receive. They excel at creating coherent responses but may lack the ability to fetch specific information from a large dataset.\\n\\nc. Combining the Two: RAG combines these approaches by first retrieving relevant documents from a large corpus and then using a generative model to produce a response based on the retrieved documents. This method leverages the strengths of both retrieval and generation to improve the quality and relevance of the responses.'),\n",
       " Document(metadata={'source': 'peech.txt'}, page_content='9. Continuous Improvement\\n**a. Feedback Loop: Establish a feedback loop to continuously gather user input and performance data. Use this information to make ongoing improvements.\\n\\n**b. Model Updates: Periodically update the retrieval and generation models to incorporate new data and advancements in technology.\\n\\n**c. Adaptation: Adapt the RAG system to new domains or applications as needed. This may involve retraining or fine-tuning models for specific use cases.'),\n",
       " Document(metadata={'source': 'peech.txt'}, page_content='**c. Preprocessing: Clean and preprocess the data to ensure consistency. This includes removing irrelevant information, normalizing text, and potentially segmenting documents into smaller chunks if necessary.\\n\\n3. Developing the Retrieval Component\\n**a. Choose a Retrieval Model: Decide on a retrieval model that fits your needs. This could be a traditional model like BM25, or a more modern dense retrieval model like those based on neural networks (e.g., DPR - Dense Passage Retrieval).'),\n",
       " Document(metadata={'source': 'peech.txt'}, page_content='8. Deployment\\n**a. Scalability: Ensure that the RAG system can handle the expected load in a real-world setting. This involves optimizing performance and scaling infrastructure.\\n\\n**b. API Integration: Develop an API or interface to allow users to interact with the RAG system. This should be user-friendly and capable of handling various types of queries.\\n\\n**c. Monitoring: Implement monitoring to track the systemâ€™s performance in production. This helps in identifying issues and making necessary adjustments.')]"
      ]
     },
     "execution_count": 4,
     "metadata": {},
     "output_type": "execute_result"
    }
   ],
   "source": [
    "query = \"what is the feedback loop in RAG\"\n",
    "chDB.similarity_search(query)"
   ]
  },
  {
   "cell_type": "code",
   "execution_count": 5,
   "metadata": {},
   "outputs": [
    {
     "data": {
      "text/plain": [
       "[(Document(metadata={'source': 'peech.txt'}, page_content='b. Generation-Based Models: These models, like GPT or BERT, can generate human-like text based on the input they receive. They excel at creating coherent responses but may lack the ability to fetch specific information from a large dataset.\\n\\nc. Combining the Two: RAG combines these approaches by first retrieving relevant documents from a large corpus and then using a generative model to produce a response based on the retrieved documents. This method leverages the strengths of both retrieval and generation to improve the quality and relevance of the responses.'),\n",
       "  22562.6494822016),\n",
       " (Document(metadata={'source': 'peech.txt'}, page_content='9. Continuous Improvement\\n**a. Feedback Loop: Establish a feedback loop to continuously gather user input and performance data. Use this information to make ongoing improvements.\\n\\n**b. Model Updates: Periodically update the retrieval and generation models to incorporate new data and advancements in technology.\\n\\n**c. Adaptation: Adapt the RAG system to new domains or applications as needed. This may involve retraining or fine-tuning models for specific use cases.'),\n",
       "  26419.500256289473),\n",
       " (Document(metadata={'source': 'peech.txt'}, page_content='**c. Preprocessing: Clean and preprocess the data to ensure consistency. This includes removing irrelevant information, normalizing text, and potentially segmenting documents into smaller chunks if necessary.\\n\\n3. Developing the Retrieval Component\\n**a. Choose a Retrieval Model: Decide on a retrieval model that fits your needs. This could be a traditional model like BM25, or a more modern dense retrieval model like those based on neural networks (e.g., DPR - Dense Passage Retrieval).'),\n",
       "  28656.991536260044),\n",
       " (Document(metadata={'source': 'peech.txt'}, page_content='8. Deployment\\n**a. Scalability: Ensure that the RAG system can handle the expected load in a real-world setting. This involves optimizing performance and scaling infrastructure.\\n\\n**b. API Integration: Develop an API or interface to allow users to interact with the RAG system. This should be user-friendly and capable of handling various types of queries.\\n\\n**c. Monitoring: Implement monitoring to track the systemâ€™s performance in production. This helps in identifying issues and making necessary adjustments.'),\n",
       "  28755.447215335957)]"
      ]
     },
     "execution_count": 5,
     "metadata": {},
     "output_type": "execute_result"
    }
   ],
   "source": [
    "chDB.similarity_search_with_score(query)"
   ]
  },
  {
   "cell_type": "code",
   "execution_count": 8,
   "metadata": {},
   "outputs": [
    {
     "data": {
      "text/plain": [
       "[Document(metadata={'source': 'peech.txt'}, page_content='b. Generation-Based Models: These models, like GPT or BERT, can generate human-like text based on the input they receive. They excel at creating coherent responses but may lack the ability to fetch specific information from a large dataset.\\n\\nc. Combining the Two: RAG combines these approaches by first retrieving relevant documents from a large corpus and then using a generative model to produce a response based on the retrieved documents. This method leverages the strengths of both retrieval and generation to improve the quality and relevance of the responses.'),\n",
       " Document(metadata={'source': 'peech.txt'}, page_content='9. Continuous Improvement\\n**a. Feedback Loop: Establish a feedback loop to continuously gather user input and performance data. Use this information to make ongoing improvements.\\n\\n**b. Model Updates: Periodically update the retrieval and generation models to incorporate new data and advancements in technology.\\n\\n**c. Adaptation: Adapt the RAG system to new domains or applications as needed. This may involve retraining or fine-tuning models for specific use cases.'),\n",
       " Document(metadata={'source': 'peech.txt'}, page_content='**c. Preprocessing: Clean and preprocess the data to ensure consistency. This includes removing irrelevant information, normalizing text, and potentially segmenting documents into smaller chunks if necessary.\\n\\n3. Developing the Retrieval Component\\n**a. Choose a Retrieval Model: Decide on a retrieval model that fits your needs. This could be a traditional model like BM25, or a more modern dense retrieval model like those based on neural networks (e.g., DPR - Dense Passage Retrieval).'),\n",
       " Document(metadata={'source': 'peech.txt'}, page_content='8. Deployment\\n**a. Scalability: Ensure that the RAG system can handle the expected load in a real-world setting. This involves optimizing performance and scaling infrastructure.\\n\\n**b. API Integration: Develop an API or interface to allow users to interact with the RAG system. This should be user-friendly and capable of handling various types of queries.\\n\\n**c. Monitoring: Implement monitoring to track the systemâ€™s performance in production. This helps in identifying issues and making necessary adjustments.')]"
      ]
     },
     "execution_count": 8,
     "metadata": {},
     "output_type": "execute_result"
    }
   ],
   "source": [
    "retriever=chDB.as_retriever()\n",
    "retriever.invoke(query)"
   ]
  },
  {
   "cell_type": "code",
   "execution_count": null,
   "metadata": {},
   "outputs": [],
   "source": []
  },
  {
   "cell_type": "code",
   "execution_count": null,
   "metadata": {},
   "outputs": [],
   "source": []
  }
 ],
 "metadata": {
  "kernelspec": {
   "display_name": "Python 3",
   "language": "python",
   "name": "python3"
  },
  "language_info": {
   "codemirror_mode": {
    "name": "ipython",
    "version": 3
   },
   "file_extension": ".py",
   "mimetype": "text/x-python",
   "name": "python",
   "nbconvert_exporter": "python",
   "pygments_lexer": "ipython3",
   "version": "3.11.0"
  }
 },
 "nbformat": 4,
 "nbformat_minor": 2
}
